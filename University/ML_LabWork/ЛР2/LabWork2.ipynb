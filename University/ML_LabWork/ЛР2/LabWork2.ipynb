{
 "cells": [
  {
   "cell_type": "markdown",
   "source": [
    "# Лабораторная работа 2. Классификация. MNIST\n",
    "\n",
    "---\n",
    "\n",
    "\n",
    "### Этапы работы:\n",
    "* анализ MNIST\n",
    "* обучение классификатора и агментация данных\n",
    "* поиск числового набора данных и обучение классификатора для него\n",
    "* поиск набора изображений и обучение классификатора\n"
   ],
   "metadata": {
    "id": "0tLF4pJq2ve2"
   }
  },
  {
   "metadata": {},
   "cell_type": "markdown",
   "source": [
    "#### 1. Показатели  \n",
    "Когда мы учим компьютер распознавать разные объекты, важно понять, насколько он делает это хорошо. Для этого используют три главных показателя: точность, полноту и F1-score. Они помогают понять, насколько правильно и полно модель определяет нужные объекты.\n",
    "#### 2. Точность  \n",
    "Точность показывает, сколько раз модель оказалась права, когда сказала, что на картинке есть нужный объект. Например, если модель сказала «Это символ 9» сто раз, а правильно оказалось только 80 раз, то точность — 80%. То есть, из всех случаев, когда модель утверждала, что видит символ 9, 80% раз она была права.  \n",
    "\n",
    "Формула для вычисления точности:   \n",
    "$$\n",
    "\\text{Precision} = \\frac{\\text{Количество правильных ответов, когда модель сказала «это нужный символ»}}{\\text{Сколько всего раз модель сказала «это нужный символ»}}\n",
    "$$\n",
    "\n",
    " \n",
    "#### 3. Полнота  \n",
    "Полнота показывает, сколько из всех реальных объектов модель смогла найти. Например, если в тесте было 100 картинок с символом 9, а модель правильно определила только 70, то полнота — 70%. То есть, модель не пропустила 70% нужных картинок, а остальные 30% не заметила.\n",
    "\n",
    "Формула для вычисления полноты:\n",
    "$$\n",
    "\\text{Recall} = \\frac{\\text{Количество правильных ответов, когда модель сказала «это нужный символ»}}{\\text{Общее количество таких символов в тесте}}\n",
    "$$\n",
    " \n",
    "#### 4. F1-score  \n",
    "F1-score — это число, которое объединяет точность и полноту в один показатель. Оно показывает, насколько модель хорошо справляется в целом: чтобы оно было большим, нужно, чтобы и точность, и полнота были высокими. Если модель часто ошибается или пропускает много нужных объектов, F1-score будет низким.  \n",
    "\n",
    "Формула для F1-score:\n",
    "$$\n",
    "F1 = 2 \\times \\frac{\\text{Precision} \\times \\text{Recall}}{\\text{Precision} + \\text{Recall}}\n",
    "$$\n",
    "\n",
    "#### 5. Зачем нужны эти показатели\n",
    "\n",
    "Если мы хотим, чтобы модель редко ошибалась и её предсказания были надёжными, то важно смотреть на точность — это показывает, насколько часто модель права, когда говорит, что нашла нужный символ. Если же задача в том, чтобы ни один нужный символ не остался незамеченным, то важна полнота — она показывает, какую часть всех настоящих символов модель действительно распознала. Иногда приходится выбирать, что важнее: не пропускать нужные объекты или не ошибаться, говоря, что объект есть. Чтобы оценить модель в целом, учитывая и точность, и полноту, используют показатель F1-score — он помогает понять, насколько модель сбалансирована и хорошо работает во всех случаях. Именно эти три показателя помогают нам понять, где модель хороша, а где ещё нужна доработка.\n",
    "\n",
    "\n"
   ]
  },
  {
   "cell_type": "markdown",
   "source": [
    "## Импорт необходимых библиотек\n",
    "\n",
    "---\n",
    "\n"
   ],
   "metadata": {
    "id": "DCNjbz9a4DfB"
   }
  },
  {
   "cell_type": "code",
   "metadata": {
    "id": "fyKnnk9wgF1Z",
    "ExecuteTime": {
     "end_time": "2025-05-28T22:52:23.980586Z",
     "start_time": "2025-05-28T22:52:23.976575Z"
    }
   },
   "source": [
    "import numpy as np\n",
    "import pandas as pd\n",
    "import sklearn\n",
    "import tensorflow as tf\n",
    "import matplotlib.pyplot as plt\n",
    "from packaging import version\n",
    "assert version.parse(sklearn.__version__) >= version.parse(\"1.0.1\")\n",
    "from sklearn.metrics import classification_report\n",
    "from sklearn.metrics import confusion_matrix, ConfusionMatrixDisplay\n",
    "from sklearn.ensemble import RandomForestClassifier\n",
    "from sklearn.model_selection import GridSearchCV, train_test_split\n",
    "from sklearn.metrics import accuracy_score\n",
    "from sklearn.neighbors import KNeighborsClassifier\n",
    "from tensorflow.keras import layers, models\n",
    "from sklearn.preprocessing import LabelEncoder\n",
    "from tensorflow.keras.utils import to_categorical"
   ],
   "outputs": [],
   "execution_count": 30
  },
  {
   "metadata": {},
   "cell_type": "markdown",
   "source": "В этой ячейке кода создаем пространство для отображения чисел из MNIST:\n"
  },
  {
   "metadata": {
    "ExecuteTime": {
     "end_time": "2025-05-28T22:52:26.250950Z",
     "start_time": "2025-05-28T22:52:26.247692Z"
    }
   },
   "cell_type": "code",
   "source": [
    "plt.rc('font', size=14)\n",
    "plt.rc('axes', labelsize=14, titlesize=14)\n",
    "plt.rc('legend', fontsize=14)\n",
    "plt.rc('xtick', labelsize=10)\n",
    "plt.rc('ytick', labelsize=10)"
   ],
   "outputs": [],
   "execution_count": 31
  },
  {
   "cell_type": "markdown",
   "source": [
    "### Функции\n",
    "---"
   ],
   "metadata": {
    "id": "xvozKBMlIhtA"
   }
  },
  {
   "cell_type": "code",
   "metadata": {
    "id": "Kmz1KAPS0OJW",
    "ExecuteTime": {
     "end_time": "2025-05-28T22:52:27.597319Z",
     "start_time": "2025-05-28T22:52:27.590095Z"
    }
   },
   "source": [
    "from scipy.ndimage import shift, rotate\n",
    "\n",
    "def augment_with_shift(X, y, max_shift = 1):\n",
    "  X_augmented = []\n",
    "  y_augmented = []\n",
    "  for image, label in zip(X, y):\n",
    "    image_2d = image.reshape(28, 28)\n",
    "    for dy, dx in [(max_shift, 0), (-max_shift, 0)]:\n",
    "      shifted = shift(image_2d, shift=(dy, dx), mode='reflect')\n",
    "      X_augmented.append(shifted.flatten())\n",
    "      y_augmented.append(label)\n",
    "  return np.vstack([X, np.array(X_augmented)]), np.hstack([y, np.array(y_augmented)])\n",
    "\n",
    "def augment_with_rotate(X, y, angles=[-5, 5]):\n",
    "  X_augmented = []\n",
    "  y_augmented = []\n",
    "  for image, label in zip(X, y):\n",
    "    image_2d = image.reshape(28, 28)\n",
    "    for angle in angles:\n",
    "      rotated = rotate(image_2d, angle, mode='reflect', reshape=False)\n",
    "      X_augmented.append(rotated.flatten())\n",
    "      y_augmented.append(label)\n",
    "  return np.vstack([X, np.array(X_augmented)]), np.hstack([y, np.array(y_augmented)])\n",
    "\n",
    "def augment_with_shift_china(X, y, max_shift = 1):\n",
    "  X_augmented = []\n",
    "  y_augmented = []\n",
    "  for image, label in zip(X, y):\n",
    "    image_2d = image.reshape(64, 64)\n",
    "    for dy, dx in [(max_shift, 0), (-max_shift, 0)]:\n",
    "      shifted = shift(image_2d, shift=(dy, dx), mode='reflect')\n",
    "      X_augmented.append(shifted.flatten())\n",
    "      y_augmented.append(label)\n",
    "  return np.vstack([X, np.array(X_augmented)]), np.hstack([y, np.array(y_augmented)])\n",
    "\n",
    "def augment_with_rotate_china(X, y, angles=[-5, 5]):\n",
    "  X_augmented = []\n",
    "  y_augmented = []\n",
    "  for image, label in zip(X, y):\n",
    "    image_2d = image.reshape(64, 64)\n",
    "    for angle in angles:\n",
    "      rotated = rotate(image_2d, angle, mode='reflect', reshape=False)\n",
    "      X_augmented.append(rotated.flatten())\n",
    "      y_augmented.append(label)\n",
    "  return np.vstack([X, np.array(X_augmented)]), np.hstack([y, np.array(y_augmented)])\n"
   ],
   "outputs": [],
   "execution_count": 32
  },
  {
   "metadata": {
    "ExecuteTime": {
     "end_time": "2025-05-28T22:52:30.107642Z",
     "start_time": "2025-05-28T22:52:30.103643Z"
    }
   },
   "cell_type": "code",
   "source": [
    "from pathlib import Path\n",
    "\n",
    "IMAGES_PATH = Path() / \"images\" / \"classification\"\n",
    "IMAGES_PATH.mkdir(parents=True, exist_ok=True)\n",
    "#Функция создана для сохранения графиков matplotlib в указанную папку, автоматически создавая её, если она не существует.\n",
    "def save_fig(fig_id, tight_layout=True, fig_extension=\"png\", resolution=300):\n",
    "    path = IMAGES_PATH / f\"{fig_id}.{fig_extension}\"\n",
    "    if tight_layout:\n",
    "        plt.tight_layout()\n",
    "    plt.savefig(path, format=fig_extension, dpi=resolution)"
   ],
   "outputs": [],
   "execution_count": 33
  },
  {
   "metadata": {},
   "cell_type": "markdown",
   "source": "Этот код предназначен для сохранения графиков matplotlib в указанную папку, автоматически создавая её, если она не существует."
  },
  {
   "cell_type": "markdown",
   "source": [
    "## Анализ MNIST\n",
    "\n",
    "---\n",
    "\n",
    " MNIST - объёмная база данных образцов рукописного написания цифр. База данных является стандартом, предложенным Национальным институтом стандартов и технологий США с целью калибрации и сопоставления методов распознавания изображений с помощью машинного обучения в первую очередь на основе нейронных сетей  \n",
    " База данных MNIST содержит 60000 изображений для обучения и 10000 изображений для тестирования. Половина образцов для обучения и тестирования были взяты из набора NIST для обучения, а другая половина — из набора NIST для тестирования. \n",
    " "
   ],
   "metadata": {
    "id": "WmaWMjBw4LNz"
   }
  },
  {
   "cell_type": "markdown",
   "source": "### Импортируем датасет MNIST из SKLearn и сохраняем в переменную",
   "metadata": {
    "id": "eu1rgTsm5UQA"
   }
  },
  {
   "cell_type": "code",
   "metadata": {
    "id": "_bpp_XaAOBz9",
    "ExecuteTime": {
     "end_time": "2025-05-28T22:52:34.354706Z",
     "start_time": "2025-05-28T22:52:31.688193Z"
    }
   },
   "source": [
    "from sklearn.datasets import fetch_openml\n",
    "mnist = fetch_openml('mnist_784', as_frame=False)"
   ],
   "outputs": [],
   "execution_count": 34
  },
  {
   "cell_type": "markdown",
   "source": [
    "### Данные в MNIST"
   ],
   "metadata": {
    "id": "EdCX6yOI5tx1"
   }
  },
  {
   "cell_type": "markdown",
   "source": [
    "Рассмотрим \"ключи\", которые есть в датасете."
   ],
   "metadata": {
    "id": "1r9hsmi-5-KO"
   }
  },
  {
   "cell_type": "code",
   "metadata": {
    "colab": {
     "base_uri": "https://localhost:8080/"
    },
    "executionInfo": {
     "elapsed": 5,
     "status": "ok",
     "timestamp": 1745856877398,
     "user": {
      "displayName": "Павел Кудрявцев",
      "userId": "17653119215636565892"
     },
     "user_tz": -180
    },
    "id": "Pgw3WEvCOID8",
    "outputId": "14cc4be2-0103-4f56-8ed6-cc4881ec6252",
    "ExecuteTime": {
     "end_time": "2025-05-28T22:52:36.436133Z",
     "start_time": "2025-05-28T22:52:36.432058Z"
    }
   },
   "source": [
    "mnist.keys()"
   ],
   "outputs": [
    {
     "data": {
      "text/plain": [
       "dict_keys(['data', 'target', 'frame', 'categories', 'feature_names', 'target_names', 'DESCR', 'details', 'url'])"
      ]
     },
     "execution_count": 35,
     "metadata": {},
     "output_type": "execute_result"
    }
   ],
   "execution_count": 35
  },
  {
   "cell_type": "markdown",
   "source": "\"DESCR\"содержит описание набора данных. Набор содержит в себе 70,000  изображений цифр от 0 до 9. Разрешение изображений 28x28 - 784 \"пикселей\".",
   "metadata": {
    "id": "uatV3Dyw6cij"
   }
  },
  {
   "cell_type": "code",
   "metadata": {
    "colab": {
     "base_uri": "https://localhost:8080/",
     "height": 124
    },
    "executionInfo": {
     "elapsed": 9,
     "status": "ok",
     "timestamp": 1745856877419,
     "user": {
      "displayName": "Павел Кудрявцев",
      "userId": "17653119215636565892"
     },
     "user_tz": -180
    },
    "id": "X1VMIdMPP-c0",
    "outputId": "0a83508d-b446-4215-c04d-779d7a830df7",
    "ExecuteTime": {
     "end_time": "2025-05-28T22:52:37.640384Z",
     "start_time": "2025-05-28T22:52:37.636131Z"
    }
   },
   "source": [
    "mnist['DESCR']"
   ],
   "outputs": [
    {
     "data": {
      "text/plain": [
       "\"**Author**: Yann LeCun, Corinna Cortes, Christopher J.C. Burges  \\n**Source**: [MNIST Website](http://yann.lecun.com/exdb/mnist/) - Date unknown  \\n**Please cite**:  \\n\\nThe MNIST database of handwritten digits with 784 features, raw data available at: http://yann.lecun.com/exdb/mnist/. It can be split in a training set of the first 60,000 examples, and a test set of 10,000 examples  \\n\\nIt is a subset of a larger set available from NIST. The digits have been size-normalized and centered in a fixed-size image. It is a good database for people who want to try learning techniques and pattern recognition methods on real-world data while spending minimal efforts on preprocessing and formatting. The original black and white (bilevel) images from NIST were size normalized to fit in a 20x20 pixel box while preserving their aspect ratio. The resulting images contain grey levels as a result of the anti-aliasing technique used by the normalization algorithm. the images were centered in a 28x28 image by computing the center of mass of the pixels, and translating the image so as to position this point at the center of the 28x28 field.  \\n\\nWith some classification methods (particularly template-based methods, such as SVM and K-nearest neighbors), the error rate improves when the digits are centered by bounding box rather than center of mass. If you do this kind of pre-processing, you should report it in your publications. The MNIST database was constructed from NIST's NIST originally designated SD-3 as their training set and SD-1 as their test set. However, SD-3 is much cleaner and easier to recognize than SD-1. The reason for this can be found on the fact that SD-3 was collected among Census Bureau employees, while SD-1 was collected among high-school students. Drawing sensible conclusions from learning experiments requires that the result be independent of the choice of training set and test among the complete set of samples. Therefore it was necessary to build a new database by mixing NIST's datasets.  \\n\\nThe MNIST training set is composed of 30,000 patterns from SD-3 and 30,000 patterns from SD-1. Our test set was composed of 5,000 patterns from SD-3 and 5,000 patterns from SD-1. The 60,000 pattern training set contained examples from approximately 250 writers. We made sure that the sets of writers of the training set and test set were disjoint. SD-1 contains 58,527 digit images written by 500 different writers. In contrast to SD-3, where blocks of data from each writer appeared in sequence, the data in SD-1 is scrambled. Writer identities for SD-1 is available and we used this information to unscramble the writers. We then split SD-1 in two: characters written by the first 250 writers went into our new training set. The remaining 250 writers were placed in our test set. Thus we had two sets with nearly 30,000 examples each. The new training set was completed with enough examples from SD-3, starting at pattern # 0, to make a full set of 60,000 training patterns. Similarly, the new test set was completed with SD-3 examples starting at pattern # 35,000 to make a full set with 60,000 test patterns. Only a subset of 10,000 test images (5,000 from SD-1 and 5,000 from SD-3) is available on this site. The full 60,000 sample training set is available.\\n\\nDownloaded from openml.org.\""
      ]
     },
     "execution_count": 36,
     "metadata": {},
     "output_type": "execute_result"
    }
   ],
   "execution_count": 36
  },
  {
   "cell_type": "markdown",
   "source": "\"data\" содержит набор массивов, которые представляют из себя изображения цифр.",
   "metadata": {
    "id": "F40o9d-J5xib"
   }
  },
  {
   "cell_type": "code",
   "metadata": {
    "colab": {
     "base_uri": "https://localhost:8080/"
    },
    "executionInfo": {
     "elapsed": 11,
     "status": "ok",
     "timestamp": 1745856877428,
     "user": {
      "displayName": "Павел Кудрявцев",
      "userId": "17653119215636565892"
     },
     "user_tz": -180
    },
    "id": "RGqxZL8fOIxc",
    "outputId": "f68961e6-8c3e-4329-c89a-9530d9ec0ca2",
    "ExecuteTime": {
     "end_time": "2025-05-28T22:52:39.626723Z",
     "start_time": "2025-05-28T22:52:39.622177Z"
    }
   },
   "source": [
    "mnist['data']"
   ],
   "outputs": [
    {
     "data": {
      "text/plain": [
       "array([[0, 0, 0, ..., 0, 0, 0],\n",
       "       [0, 0, 0, ..., 0, 0, 0],\n",
       "       [0, 0, 0, ..., 0, 0, 0],\n",
       "       ...,\n",
       "       [0, 0, 0, ..., 0, 0, 0],\n",
       "       [0, 0, 0, ..., 0, 0, 0],\n",
       "       [0, 0, 0, ..., 0, 0, 0]])"
      ]
     },
     "execution_count": 37,
     "metadata": {},
     "output_type": "execute_result"
    }
   ],
   "execution_count": 37
  },
  {
   "cell_type": "markdown",
   "source": "\"target\" содержит метку, цифру которая изображена на соответствующем массиве.",
   "metadata": {
    "id": "nYgw1Zqh7d1O"
   }
  },
  {
   "cell_type": "code",
   "metadata": {
    "colab": {
     "base_uri": "https://localhost:8080/"
    },
    "executionInfo": {
     "elapsed": 17,
     "status": "ok",
     "timestamp": 1745856877447,
     "user": {
      "displayName": "Павел Кудрявцев",
      "userId": "17653119215636565892"
     },
     "user_tz": -180
    },
    "id": "fULrbjcFOO30",
    "outputId": "c760116c-6039-4794-9cef-c7ab293186eb",
    "ExecuteTime": {
     "end_time": "2025-05-28T22:52:43.936761Z",
     "start_time": "2025-05-28T22:52:43.932756Z"
    }
   },
   "source": [
    "mnist['target']"
   ],
   "outputs": [
    {
     "data": {
      "text/plain": [
       "array(['5', '0', '4', ..., '4', '5', '6'], dtype=object)"
      ]
     },
     "execution_count": 38,
     "metadata": {},
     "output_type": "execute_result"
    }
   ],
   "execution_count": 38
  },
  {
   "cell_type": "markdown",
   "source": "\"categories\" состоит из классов из \"target\".",
   "metadata": {
    "id": "KeMkfH0k7tcR"
   }
  },
  {
   "cell_type": "code",
   "metadata": {
    "colab": {
     "base_uri": "https://localhost:8080/"
    },
    "executionInfo": {
     "elapsed": 14,
     "status": "ok",
     "timestamp": 1745856877459,
     "user": {
      "displayName": "Павел Кудрявцев",
      "userId": "17653119215636565892"
     },
     "user_tz": -180
    },
    "id": "OrrAYbZ8OgWk",
    "outputId": "b57164a7-ce15-416f-a606-90df5a8e5543",
    "ExecuteTime": {
     "end_time": "2025-05-28T22:52:45.658877Z",
     "start_time": "2025-05-28T22:52:45.654640Z"
    }
   },
   "source": [
    "mnist['categories']"
   ],
   "outputs": [
    {
     "data": {
      "text/plain": [
       "{'class': ['0', '1', '2', '3', '4', '5', '6', '7', '8', '9']}"
      ]
     },
     "execution_count": 39,
     "metadata": {},
     "output_type": "execute_result"
    }
   ],
   "execution_count": 39
  },
  {
   "cell_type": "markdown",
   "source": "\"details\" содержит краткую информацию о наборе в SKLearn.",
   "metadata": {
    "id": "TKj0bK5r9Rbr"
   }
  },
  {
   "cell_type": "code",
   "metadata": {
    "colab": {
     "base_uri": "https://localhost:8080/"
    },
    "executionInfo": {
     "elapsed": 15,
     "status": "ok",
     "timestamp": 1745856877511,
     "user": {
      "displayName": "Павел Кудрявцев",
      "userId": "17653119215636565892"
     },
     "user_tz": -180
    },
    "id": "nFpK57lpQBdl",
    "outputId": "699a7ec9-b233-4446-8b93-349ef0fadbdb",
    "ExecuteTime": {
     "end_time": "2025-05-28T22:52:47.495625Z",
     "start_time": "2025-05-28T22:52:47.491779Z"
    }
   },
   "source": [
    "mnist['details']"
   ],
   "outputs": [
    {
     "data": {
      "text/plain": [
       "{'id': '554',\n",
       " 'name': 'mnist_784',\n",
       " 'version': '1',\n",
       " 'description_version': '2',\n",
       " 'format': 'ARFF',\n",
       " 'creator': ['Yann LeCun', 'Corinna Cortes', 'Christopher J.C. Burges'],\n",
       " 'upload_date': '2014-09-29T03:28:38',\n",
       " 'language': 'English',\n",
       " 'licence': 'Public',\n",
       " 'url': 'https://api.openml.org/data/v1/download/52667/mnist_784.arff',\n",
       " 'parquet_url': 'https://data.openml.org/datasets/0000/0554/dataset_554.pq',\n",
       " 'file_id': '52667',\n",
       " 'default_target_attribute': 'class',\n",
       " 'tag': ['Artificial Intelligence',\n",
       "  'AzurePilot',\n",
       "  'Computer Vision',\n",
       "  'Data Sets',\n",
       "  'Kaggle',\n",
       "  'Machine Learning',\n",
       "  'OpenML-CC18',\n",
       "  'OpenML100',\n",
       "  'study_1',\n",
       "  'study_123',\n",
       "  'study_41',\n",
       "  'study_99',\n",
       "  'vision'],\n",
       " 'visibility': 'public',\n",
       " 'minio_url': 'https://data.openml.org/datasets/0000/0554/dataset_554.pq',\n",
       " 'status': 'active',\n",
       " 'processing_date': '2020-11-20 20:12:09',\n",
       " 'md5_checksum': '0298d579eb1b86163de7723944c7e495'}"
      ]
     },
     "execution_count": 40,
     "metadata": {},
     "output_type": "execute_result"
    }
   ],
   "execution_count": 40
  },
  {
   "cell_type": "markdown",
   "source": "\"url\" Ссылка на набор данных MNIST.",
   "metadata": {
    "id": "HI2kgcDa9gTT"
   }
  },
  {
   "cell_type": "code",
   "metadata": {
    "colab": {
     "base_uri": "https://localhost:8080/",
     "height": 35
    },
    "executionInfo": {
     "elapsed": 22,
     "status": "ok",
     "timestamp": 1745856877531,
     "user": {
      "displayName": "Павел Кудрявцев",
      "userId": "17653119215636565892"
     },
     "user_tz": -180
    },
    "id": "mE9SoFBTQGXU",
    "outputId": "ad718e43-dba0-4d07-c7b7-a18f6403348b",
    "ExecuteTime": {
     "end_time": "2025-05-28T22:52:49.428795Z",
     "start_time": "2025-05-28T22:52:49.424572Z"
    }
   },
   "source": [
    "mnist['url']"
   ],
   "outputs": [
    {
     "data": {
      "text/plain": [
       "'https://www.openml.org/d/554'"
      ]
     },
     "execution_count": 41,
     "metadata": {},
     "output_type": "execute_result"
    }
   ],
   "execution_count": 41
  },
  {
   "metadata": {},
   "cell_type": "markdown",
   "source": [
    "Краткое описание:  \n",
    "\n",
    "**data** — матрица с пикселями изображений (каждое изображение — строка)  \n",
    "\n",
    "**target** — метки классов (цифры от 0 до 9)    \n",
    "\n",
    "**DESCR** — описание датасета  \n",
    "\n",
    "**details** — метаданные о датасете  \n",
    "\n",
    "**categories** — категории классов (если есть)  \n",
    "\n",
    "**url** — ссылка на источник данных  "
   ]
  },
  {
   "cell_type": "markdown",
   "source": "Заключим данные в две переменные.",
   "metadata": {
    "id": "A9kzf1JM9rpB"
   }
  },
  {
   "cell_type": "code",
   "metadata": {
    "colab": {
     "base_uri": "https://localhost:8080/"
    },
    "executionInfo": {
     "elapsed": 15,
     "status": "ok",
     "timestamp": 1745856877554,
     "user": {
      "displayName": "Павел Кудрявцев",
      "userId": "17653119215636565892"
     },
     "user_tz": -180
    },
    "id": "2OSQS2XZRAdd",
    "outputId": "019af6d6-a322-4777-8b23-31260f703d86",
    "ExecuteTime": {
     "end_time": "2025-05-28T22:52:51.730874Z",
     "start_time": "2025-05-28T22:52:51.727774Z"
    }
   },
   "source": "X, y = mnist['data'], mnist['target']",
   "outputs": [],
   "execution_count": 42
  },
  {
   "cell_type": "markdown",
   "source": [
    "Первое изображение в наборе имеет значение 5"
   ],
   "metadata": {
    "id": "wR5UNnSN-M7g"
   }
  },
  {
   "cell_type": "code",
   "metadata": {
    "colab": {
     "base_uri": "https://localhost:8080/",
     "height": 35
    },
    "executionInfo": {
     "elapsed": 5,
     "status": "ok",
     "timestamp": 1745856877561,
     "user": {
      "displayName": "Павел Кудрявцев",
      "userId": "17653119215636565892"
     },
     "user_tz": -180
    },
    "id": "O0UfWicDRDIN",
    "outputId": "533513fa-ab39-42b6-d7ab-4d340d2da9dd",
    "ExecuteTime": {
     "end_time": "2025-05-28T22:52:53.234486Z",
     "start_time": "2025-05-28T22:52:53.230655Z"
    }
   },
   "source": [
    "y[0]"
   ],
   "outputs": [
    {
     "data": {
      "text/plain": [
       "'5'"
      ]
     },
     "execution_count": 43,
     "metadata": {},
     "output_type": "execute_result"
    }
   ],
   "execution_count": 43
  },
  {
   "metadata": {},
   "cell_type": "markdown",
   "source": "Второе изображение в наборе имеет значение 0"
  },
  {
   "metadata": {
    "ExecuteTime": {
     "end_time": "2025-05-28T22:52:54.821918Z",
     "start_time": "2025-05-28T22:52:54.817494Z"
    }
   },
   "cell_type": "code",
   "source": "y[1]",
   "outputs": [
    {
     "data": {
      "text/plain": [
       "'0'"
      ]
     },
     "execution_count": 44,
     "metadata": {},
     "output_type": "execute_result"
    }
   ],
   "execution_count": 44
  },
  {
   "cell_type": "markdown",
   "source": "Изобразим первую цифру",
   "metadata": {
    "id": "UyCswZ1T-d1f"
   }
  },
  {
   "cell_type": "code",
   "metadata": {
    "colab": {
     "base_uri": "https://localhost:8080/",
     "height": 422
    },
    "executionInfo": {
     "elapsed": 100,
     "status": "ok",
     "timestamp": 1745856877697,
     "user": {
      "displayName": "Павел Кудрявцев",
      "userId": "17653119215636565892"
     },
     "user_tz": -180
    },
    "id": "NhP1I3M8RVjF",
    "outputId": "c076a3d2-f1c6-4e17-95af-8c3a1e13df7f",
    "ExecuteTime": {
     "end_time": "2025-05-28T22:52:56.396406Z",
     "start_time": "2025-05-28T22:52:56.358272Z"
    }
   },
   "source": [
    "some_digit = X[0]\n",
    "# Получение первого изображения из набора данных.\n",
    "some_digit_image = some_digit.reshape(28, 28)\n",
    "# Преобразование вектора признаков в изображение 28x28 пикселей.\n",
    "plt.figure(figsize=(5, 5))\n",
    "plt.imshow(some_digit_image, cmap=\"binary\")\n",
    "plt.axis(\"off\")\n",
    "plt.show()"
   ],
   "outputs": [
    {
     "data": {
      "text/plain": [
       "<Figure size 500x500 with 1 Axes>"
      ],
      "image/png": "[encoded data removed]"
     },
     "metadata": {},
     "output_type": "display_data"
    }
   ],
   "execution_count": 45
  },
  {
   "metadata": {},
   "cell_type": "markdown",
   "source": "Изобразим вторую цифру"
  },
  {
   "metadata": {
    "ExecuteTime": {
     "end_time": "2025-05-28T22:52:58.334668Z",
     "start_time": "2025-05-28T22:52:58.313281Z"
    }
   },
   "cell_type": "code",
   "source": [
    "some_digit = X[1]\n",
    "# Получение первого изображения из набора данных.\n",
    "some_digit_image = some_digit.reshape(28, 28)\n",
    "# Преобразование вектора признаков в изображение 28x28 пикселей.\n",
    "plt.figure(figsize=(5, 5))\n",
    "plt.imshow(some_digit_image, cmap=\"binary\")\n",
    "plt.axis(\"off\")\n",
    "plt.show()"
   ],
   "outputs": [
    {
     "data": {
      "text/plain": [
       "<Figure size 500x500 with 1 Axes>"
      ],
      "image/png": "[encoded data removed]"
     },
     "metadata": {},
     "output_type": "display_data"
    }
   ],
   "execution_count": 46
  },
  {
   "cell_type": "markdown",
   "source": "Получаем такие изображение пятерки и нолика, написанные от руки.",
   "metadata": {
    "id": "z0UTSuRz_Eqy"
   }
  },
  {
   "cell_type": "markdown",
   "metadata": {
    "id": "r6SfGVY4kEs7"
   },
   "source": [
    "## Создание и обучение классификатора KNeighbors\n",
    "\n",
    "---\n",
    "\n"
   ]
  },
  {
   "cell_type": "markdown",
   "source": [
    "KNeighborsClassifier — это алгоритм классификации из библиотеки scikit-learn, основанный на методе k-ближайших соседей (k-NN).\n",
    "Основная идея этого метода — определить класс нового объекта по классам его ближайших \"соседей\" в обучающей выборке."
   ],
   "metadata": {
    "id": "kueK0eaNBSWQ"
   }
  },
  {
   "cell_type": "markdown",
   "source": [
    "Как работает алгоритм k-NN:\n",
    "1) Для каждого нового объекта (теста) вычисляется расстояние до всех объектов из обучающей выборки.\n",
    "Обычно используется метрика расстояния, например, Евклидово расстояние, Манхэттенское или другие метрики из семейства Lp.\n",
    "\n",
    "2) Из всех обучающих объектов выбираются k ближайших, где число k задаётся пользователем заранее.\n",
    "\n",
    "3) Для задачи классификации итоговый прогноз определяется как наиболее часто встречающийся класс (мода) среди этих k соседей.\n",
    "В задаче регрессии результатом будет среднее значение целевой переменной соседей.\n",
    "\n",
    "4) Эти шаги повторяются для каждого тестового объекта.\n"
   ],
   "metadata": {
    "id": "Gg1z8P2KH9L4"
   }
  },
  {
   "cell_type": "markdown",
   "source": [
    "\n",
    "\n",
    "---\n",
    "\n"
   ],
   "metadata": {
    "id": "o_eC_RJlIQ4I"
   }
  },
  {
   "cell_type": "markdown",
   "source": "Разделим изображения на обучающие(60,000) и тестовые(10,000). Обучим классификатор\n",
   "metadata": {
    "id": "oc_LtXpBBaa_"
   }
  },
  {
   "metadata": {
    "ExecuteTime": {
     "end_time": "2025-05-28T22:53:02.033772Z",
     "start_time": "2025-05-28T22:53:01.716071Z"
    }
   },
   "cell_type": "code",
   "source": "X_train, X_test, y_train, y_test = train_test_split(X, y, test_size = 0.2, random_state=42)",
   "outputs": [],
   "execution_count": 47
  },
  {
   "metadata": {},
   "cell_type": "markdown",
   "source": "Ищем наилучшие параметры для классификатора "
  },
  {
   "cell_type": "code",
   "metadata": {
    "id": "_tgOEhDyn_We",
    "ExecuteTime": {
     "end_time": "2025-05-28T22:57:39.229607Z",
     "start_time": "2025-05-28T22:53:03.577888Z"
    }
   },
   "source": [
    "# Инициализируем классификатор\n",
    "knn = KNeighborsClassifier()\n",
    "\n",
    "# Задаём сетку параметров для поиска\n",
    "param_grid = {\n",
    "    'n_neighbors': [3, 5, 7, 9],\n",
    "    'weights': ['uniform', 'distance']\n",
    "}\n",
    "\n",
    "# Создаём объект GridSearchCV\n",
    "grid_search = GridSearchCV(knn, param_grid, cv=5, scoring='accuracy')\n",
    "\n",
    "# Запускаем подбор гиперпараметров на тренировочных данных\n",
    "grid_search.fit(X_train, y_train)\n",
    "\n",
    "# Выводим лучшие параметры и лучший результат\n",
    "print(\"Лучшие параметры:\", grid_search.best_params_)\n",
    "print(\"Лучшее качество на кросс-валидации:\", grid_search.best_score_)\n",
    "best_knn = grid_search.best_estimator_\n",
    "test_accuracy = best_knn.score(X_test, y_test)\n",
    "print(\"Точность на тестовой выборке:\", test_accuracy)"
   ],
   "outputs": [
    {
     "name": "stdout",
     "output_type": "stream",
     "text": [
      "Лучшие параметры: {'n_neighbors': 3, 'weights': 'distance'}\n",
      "Лучшее качество на кросс-валидации: 0.9713392857142857\n",
      "Точность на тестовой выборке: 0.9728571428571429\n"
     ]
    }
   ],
   "execution_count": 48
  },
  {
   "cell_type": "markdown",
   "source": [
    "Предсказываем данные"
   ],
   "metadata": {
    "id": "QwDMJEsdA8CL"
   }
  },
  {
   "cell_type": "code",
   "metadata": {
    "colab": {
     "base_uri": "https://localhost:8080/"
    },
    "executionInfo": {
     "elapsed": 41,
     "status": "ok",
     "timestamp": 1745856914057,
     "user": {
      "displayName": "Павел Кудрявцев",
      "userId": "17653119215636565892"
     },
     "user_tz": -180
    },
    "id": "1kKANle1or_h",
    "outputId": "81d9823c-c97e-4a29-a414-7fdbab781851",
    "ExecuteTime": {
     "end_time": "2025-05-28T23:06:58.401824Z",
     "start_time": "2025-05-28T23:06:48.501851Z"
    }
   },
   "source": [
    "y_pred = best_knn.predict(X_test)\n",
    "print(f\"Accuracy: {accuracy_score(y_test, y_pred):.4f}\")"
   ],
   "outputs": [
    {
     "name": "stdout",
     "output_type": "stream",
     "text": [
      "Accuracy: 0.9729\n"
     ]
    }
   ],
   "execution_count": 49
  },
  {
   "cell_type": "markdown",
   "source": "Точность > 0.97",
   "metadata": {
    "id": "HGLRLtiSA_ko"
   }
  },
  {
   "cell_type": "markdown",
   "metadata": {
    "id": "WDsQFCaIp4fq"
   },
   "source": [
    "## Аугментация данных\n",
    "---"
   ]
  },
  {
   "metadata": {},
   "cell_type": "markdown",
   "source": "Аугментация данных — это техника искусственного увеличения объёма обучающей выборки за счёт создания новых примеров путём различных преобразований исходных данных, таких как повороты, сдвиги, масштабирование или добавление шума. Это помогает модели стать более устойчивой к вариациям и улучшить её обобщающую способность, особенно когда исходных данных мало."
  },
  {
   "cell_type": "markdown",
   "source": [
    "С помощью заранее прописанной функции использующей метод shift осуществляем сдвиг изображений вверх и вниз(в данном случае на 1 пиксель).  \n",
    "С помощью заранее прописанной функции использующей метод rotate осуществляем поворот изображений на -5 и 5 градусов"
   ],
   "metadata": {
    "id": "qmTKon7YEEP0"
   }
  },
  {
   "cell_type": "code",
   "source": [
    "X_aug, y_aug = augment_with_shift(X_train, y_train, 1)\n",
    "X_aug_r, y_aug_r = augment_with_rotate(X_train, y_train, angles = [-5, 5])"
   ],
   "metadata": {
    "id": "xUHjfaFcVt7g",
    "ExecuteTime": {
     "end_time": "2025-05-28T23:07:20.369618Z",
     "start_time": "2025-05-28T23:07:00.832121Z"
    }
   },
   "outputs": [],
   "execution_count": 50
  },
  {
   "cell_type": "markdown",
   "source": "Количество аугументированных сдвинутых и повернутых данных",
   "metadata": {
    "id": "3BnHQ6RnGT11"
   }
  },
  {
   "cell_type": "code",
   "metadata": {
    "colab": {
     "base_uri": "https://localhost:8080/"
    },
    "executionInfo": {
     "elapsed": 16,
     "status": "ok",
     "timestamp": 1745856963715,
     "user": {
      "displayName": "Павел Кудрявцев",
      "userId": "17653119215636565892"
     },
     "user_tz": -180
    },
    "id": "RML4LYn07nut",
    "outputId": "8e8e6ef6-1f06-4d4b-9c20-122c3810a284",
    "ExecuteTime": {
     "end_time": "2025-05-28T23:08:57.993231Z",
     "start_time": "2025-05-28T23:08:57.989789Z"
    }
   },
   "source": [
    "print(\"Количество сдвинутых данных\",len(X_aug))\n",
    "print(\"Количество сдвинутых данных\", len(X_aug_r))"
   ],
   "outputs": [
    {
     "name": "stdout",
     "output_type": "stream",
     "text": [
      "Количество сдвинутых данных 168000\n",
      "Количество сдвинутых данных 168000\n"
     ]
    }
   ],
   "execution_count": 51
  },
  {
   "cell_type": "markdown",
   "source": "Снова обучим классификатор на аугументированных данных и получим такие результаты:",
   "metadata": {
    "id": "gO_7eF8fIElh"
   }
  },
  {
   "cell_type": "code",
   "metadata": {
    "colab": {
     "base_uri": "https://localhost:8080/"
    },
    "executionInfo": {
     "elapsed": 99643,
     "status": "ok",
     "timestamp": 1745857063352,
     "user": {
      "displayName": "Павел Кудрявцев",
      "userId": "17653119215636565892"
     },
     "user_tz": -180
    },
    "id": "SChTsTQ2xX5e",
    "outputId": "900351c8-4178-4d98-ed95-c8783c4a06fe",
    "ExecuteTime": {
     "end_time": "2025-05-28T23:09:37.243965Z",
     "start_time": "2025-05-28T23:09:01.550176Z"
    }
   },
   "source": [
    "best_knn.fit(X_aug, y_aug)\n",
    "y_pred_aug = best_knn.predict(X_test)\n",
    "print(f\"Accuracy: {accuracy_score(y_test, y_pred_aug):.4f}\")"
   ],
   "outputs": [
    {
     "name": "stdout",
     "output_type": "stream",
     "text": [
      "Accuracy: 0.9785\n"
     ]
    }
   ],
   "execution_count": 52
  },
  {
   "cell_type": "code",
   "metadata": {
    "colab": {
     "base_uri": "https://localhost:8080/"
    },
    "executionInfo": {
     "elapsed": 98397,
     "status": "ok",
     "timestamp": 1745857161746,
     "user": {
      "displayName": "Павел Кудрявцев",
      "userId": "17653119215636565892"
     },
     "user_tz": -180
    },
    "id": "mI7mpVyl7uLV",
    "outputId": "1a44dda9-cf6f-4340-8317-8dd1fe095849",
    "ExecuteTime": {
     "end_time": "2025-05-28T23:12:57.879013Z",
     "start_time": "2025-05-28T23:12:23.203900Z"
    }
   },
   "source": [
    "best_knn.fit(X_aug_r, y_aug_r)\n",
    "y_pred_aug_r = best_knn.predict(X_test)\n",
    "print(f\"Accuracy: {accuracy_score(y_test, y_pred_aug_r):.4f}\")"
   ],
   "outputs": [
    {
     "name": "stdout",
     "output_type": "stream",
     "text": [
      "Accuracy: 0.9774\n"
     ]
    }
   ],
   "execution_count": 53
  },
  {
   "metadata": {},
   "cell_type": "markdown",
   "source": "Точность возросла на 0.05"
  },
  {
   "metadata": {
    "ExecuteTime": {
     "end_time": "2025-05-28T23:13:00.284570Z",
     "start_time": "2025-05-28T23:13:00.238381Z"
    }
   },
   "cell_type": "code",
   "source": "print(classification_report(y_test, y_pred_aug_r))",
   "outputs": [
    {
     "name": "stdout",
     "output_type": "stream",
     "text": [
      "              precision    recall  f1-score   support\n",
      "\n",
      "           0       0.99      0.99      0.99      1343\n",
      "           1       0.97      0.99      0.98      1600\n",
      "           2       0.98      0.97      0.98      1380\n",
      "           3       0.97      0.97      0.97      1433\n",
      "           4       0.98      0.98      0.98      1295\n",
      "           5       0.97      0.98      0.98      1273\n",
      "           6       0.99      0.99      0.99      1396\n",
      "           7       0.97      0.98      0.97      1503\n",
      "           8       0.99      0.95      0.97      1357\n",
      "           9       0.96      0.97      0.97      1420\n",
      "\n",
      "    accuracy                           0.98     14000\n",
      "   macro avg       0.98      0.98      0.98     14000\n",
      "weighted avg       0.98      0.98      0.98     14000\n",
      "\n"
     ]
    }
   ],
   "execution_count": 54
  },
  {
   "metadata": {},
   "cell_type": "markdown",
   "source": "Аугментация данных, несмотря на небольшой прирост, заметно улучшила качество модели. Добавление сдвигов и поворотов помогло модели лучше обрабатывать вариации изображений и повысить её устойчивость к искажениям. Благодаря этому точность предсказаний стала выше, что особенно важно при ограниченном количестве обучающих данных. Такой подход помогает избежать переобучения и улучшить обобщающую способность модели. В итоге аугментация оказалась полезным инструментом для повышения надёжности классификации. Даже небольшие улучшения могут существенно сказаться на качестве работы в реальных задачах."
  },
  {
   "metadata": {},
   "cell_type": "markdown",
   "source": [
    "### Классификация телефонов\n",
    "---"
   ]
  },
  {
   "metadata": {},
   "cell_type": "markdown",
   "source": "Датасет содержит информацию о технических характеристиках различных моделей мобильных телефонов и их ценовых диапазонах. Цель использования данных — выявить взаимосвязь между параметрами устройств (например, объём оперативной памяти, встроенной памяти и других особенностей) и приблизительной стоимостью. Это помогает определить ценовую категорию телефона на основе его характеристик, что полезно для оценки рыночной стоимости новых моделей, оптимизации ценовой политики и понимания факторов, влияющих на цену в условиях конкурентного рынка мобильных устройств.\n"
  },
  {
   "metadata": {
    "ExecuteTime": {
     "end_time": "2025-05-28T23:13:03.803211Z",
     "start_time": "2025-05-28T23:13:03.788688Z"
    }
   },
   "cell_type": "code",
   "source": [
    "dfphones = pd.read_csv(\"phones.csv\")\n",
    "dfphones"
   ],
   "outputs": [
    {
     "data": {
      "text/plain": [
       "      battery_power  blue  clock_speed  dual_sim  fc  four_g  int_memory  \\\n",
       "0               842     0          2.2         0   1       0           7   \n",
       "1              1021     1          0.5         1   0       1          53   \n",
       "2               563     1          0.5         1   2       1          41   \n",
       "3               615     1          2.5         0   0       0          10   \n",
       "4              1821     1          1.2         0  13       1          44   \n",
       "...             ...   ...          ...       ...  ..     ...         ...   \n",
       "1995            794     1          0.5         1   0       1           2   \n",
       "1996           1965     1          2.6         1   0       0          39   \n",
       "1997           1911     0          0.9         1   1       1          36   \n",
       "1998           1512     0          0.9         0   4       1          46   \n",
       "1999            510     1          2.0         1   5       1          45   \n",
       "\n",
       "      m_dep  mobile_wt  n_cores  ...  px_height  px_width   ram  sc_h  sc_w  \\\n",
       "0       0.6        188        2  ...         20       756  2549     9     7   \n",
       "1       0.7        136        3  ...        905      1988  2631    17     3   \n",
       "2       0.9        145        5  ...       1263      1716  2603    11     2   \n",
       "3       0.8        131        6  ...       1216      1786  2769    16     8   \n",
       "4       0.6        141        2  ...       1208      1212  1411     8     2   \n",
       "...     ...        ...      ...  ...        ...       ...   ...   ...   ...   \n",
       "1995    0.8        106        6  ...       1222      1890   668    13     4   \n",
       "1996    0.2        187        4  ...        915      1965  2032    11    10   \n",
       "1997    0.7        108        8  ...        868      1632  3057     9     1   \n",
       "1998    0.1        145        5  ...        336       670   869    18    10   \n",
       "1999    0.9        168        6  ...        483       754  3919    19     4   \n",
       "\n",
       "      talk_time  three_g  touch_screen  wifi  price_range  \n",
       "0            19        0             0     1            1  \n",
       "1             7        1             1     0            2  \n",
       "2             9        1             1     0            2  \n",
       "3            11        1             0     0            2  \n",
       "4            15        1             1     0            1  \n",
       "...         ...      ...           ...   ...          ...  \n",
       "1995         19        1             1     0            0  \n",
       "1996         16        1             1     1            2  \n",
       "1997          5        1             1     0            3  \n",
       "1998         19        1             1     1            0  \n",
       "1999          2        1             1     1            3  \n",
       "\n",
       "[2000 rows x 21 columns]"
      ],
      "text/html": [
       "<div>\n",
       "<style scoped>\n",
       "    .dataframe tbody tr th:only-of-type {\n",
       "        vertical-align: middle;\n",
       "    }\n",
       "\n",
       "    .dataframe tbody tr th {\n",
       "        vertical-align: top;\n",
       "    }\n",
       "\n",
       "    .dataframe thead th {\n",
       "        text-align: right;\n",
       "    }\n",
       "</style>\n",
       "<table border=\"1\" class=\"dataframe\">\n",
       "  <thead>\n",
       "    <tr style=\"text-align: right;\">\n",
       "      <th></th>\n",
       "      <th>battery_power</th>\n",
       "      <th>blue</th>\n",
       "      <th>clock_speed</th>\n",
       "      <th>dual_sim</th>\n",
       "      <th>fc</th>\n",
       "      <th>four_g</th>\n",
       "      <th>int_memory</th>\n",
       "      <th>m_dep</th>\n",
       "      <th>mobile_wt</th>\n",
       "      <th>n_cores</th>\n",
       "      <th>...</th>\n",
       "      <th>px_height</th>\n",
       "      <th>px_width</th>\n",
       "      <th>ram</th>\n",
       "      <th>sc_h</th>\n",
       "      <th>sc_w</th>\n",
       "      <th>talk_time</th>\n",
       "      <th>three_g</th>\n",
       "      <th>touch_screen</th>\n",
       "      <th>wifi</th>\n",
       "      <th>price_range</th>\n",
       "    </tr>\n",
       "  </thead>\n",
       "  <tbody>\n",
       "    <tr>\n",
       "      <th>0</th>\n",
       "      <td>842</td>\n",
       "      <td>0</td>\n",
       "      <td>2.2</td>\n",
       "      <td>0</td>\n",
       "      <td>1</td>\n",
       "      <td>0</td>\n",
       "      <td>7</td>\n",
       "      <td>0.6</td>\n",
       "      <td>188</td>\n",
       "      <td>2</td>\n",
       "      <td>...</td>\n",
       "      <td>20</td>\n",
       "      <td>756</td>\n",
       "      <td>2549</td>\n",
       "      <td>9</td>\n",
       "      <td>7</td>\n",
       "      <td>19</td>\n",
       "      <td>0</td>\n",
       "      <td>0</td>\n",
       "      <td>1</td>\n",
       "      <td>1</td>\n",
       "    </tr>\n",
       "    <tr>\n",
       "      <th>1</th>\n",
       "      <td>1021</td>\n",
       "      <td>1</td>\n",
       "      <td>0.5</td>\n",
       "      <td>1</td>\n",
       "      <td>0</td>\n",
       "      <td>1</td>\n",
       "      <td>53</td>\n",
       "      <td>0.7</td>\n",
       "      <td>136</td>\n",
       "      <td>3</td>\n",
       "      <td>...</td>\n",
       "      <td>905</td>\n",
       "      <td>1988</td>\n",
       "      <td>2631</td>\n",
       "      <td>17</td>\n",
       "      <td>3</td>\n",
       "      <td>7</td>\n",
       "      <td>1</td>\n",
       "      <td>1</td>\n",
       "      <td>0</td>\n",
       "      <td>2</td>\n",
       "    </tr>\n",
       "    <tr>\n",
       "      <th>2</th>\n",
       "      <td>563</td>\n",
       "      <td>1</td>\n",
       "      <td>0.5</td>\n",
       "      <td>1</td>\n",
       "      <td>2</td>\n",
       "      <td>1</td>\n",
       "      <td>41</td>\n",
       "      <td>0.9</td>\n",
       "      <td>145</td>\n",
       "      <td>5</td>\n",
       "      <td>...</td>\n",
       "      <td>1263</td>\n",
       "      <td>1716</td>\n",
       "      <td>2603</td>\n",
       "      <td>11</td>\n",
       "      <td>2</td>\n",
       "      <td>9</td>\n",
       "      <td>1</td>\n",
       "      <td>1</td>\n",
       "      <td>0</td>\n",
       "      <td>2</td>\n",
       "    </tr>\n",
       "    <tr>\n",
       "      <th>3</th>\n",
       "      <td>615</td>\n",
       "      <td>1</td>\n",
       "      <td>2.5</td>\n",
       "      <td>0</td>\n",
       "      <td>0</td>\n",
       "      <td>0</td>\n",
       "      <td>10</td>\n",
       "      <td>0.8</td>\n",
       "      <td>131</td>\n",
       "      <td>6</td>\n",
       "      <td>...</td>\n",
       "      <td>1216</td>\n",
       "      <td>1786</td>\n",
       "      <td>2769</td>\n",
       "      <td>16</td>\n",
       "      <td>8</td>\n",
       "      <td>11</td>\n",
       "      <td>1</td>\n",
       "      <td>0</td>\n",
       "      <td>0</td>\n",
       "      <td>2</td>\n",
       "    </tr>\n",
       "    <tr>\n",
       "      <th>4</th>\n",
       "      <td>1821</td>\n",
       "      <td>1</td>\n",
       "      <td>1.2</td>\n",
       "      <td>0</td>\n",
       "      <td>13</td>\n",
       "      <td>1</td>\n",
       "      <td>44</td>\n",
       "      <td>0.6</td>\n",
       "      <td>141</td>\n",
       "      <td>2</td>\n",
       "      <td>...</td>\n",
       "      <td>1208</td>\n",
       "      <td>1212</td>\n",
       "      <td>1411</td>\n",
       "      <td>8</td>\n",
       "      <td>2</td>\n",
       "      <td>15</td>\n",
       "      <td>1</td>\n",
       "      <td>1</td>\n",
       "      <td>0</td>\n",
       "      <td>1</td>\n",
       "    </tr>\n",
       "    <tr>\n",
       "      <th>...</th>\n",
       "      <td>...</td>\n",
       "      <td>...</td>\n",
       "      <td>...</td>\n",
       "      <td>...</td>\n",
       "      <td>...</td>\n",
       "      <td>...</td>\n",
       "      <td>...</td>\n",
       "      <td>...</td>\n",
       "      <td>...</td>\n",
       "      <td>...</td>\n",
       "      <td>...</td>\n",
       "      <td>...</td>\n",
       "      <td>...</td>\n",
       "      <td>...</td>\n",
       "      <td>...</td>\n",
       "      <td>...</td>\n",
       "      <td>...</td>\n",
       "      <td>...</td>\n",
       "      <td>...</td>\n",
       "      <td>...</td>\n",
       "      <td>...</td>\n",
       "    </tr>\n",
       "    <tr>\n",
       "      <th>1995</th>\n",
       "      <td>794</td>\n",
       "      <td>1</td>\n",
       "      <td>0.5</td>\n",
       "      <td>1</td>\n",
       "      <td>0</td>\n",
       "      <td>1</td>\n",
       "      <td>2</td>\n",
       "      <td>0.8</td>\n",
       "      <td>106</td>\n",
       "      <td>6</td>\n",
       "      <td>...</td>\n",
       "      <td>1222</td>\n",
       "      <td>1890</td>\n",
       "      <td>668</td>\n",
       "      <td>13</td>\n",
       "      <td>4</td>\n",
       "      <td>19</td>\n",
       "      <td>1</td>\n",
       "      <td>1</td>\n",
       "      <td>0</td>\n",
       "      <td>0</td>\n",
       "    </tr>\n",
       "    <tr>\n",
       "      <th>1996</th>\n",
       "      <td>1965</td>\n",
       "      <td>1</td>\n",
       "      <td>2.6</td>\n",
       "      <td>1</td>\n",
       "      <td>0</td>\n",
       "      <td>0</td>\n",
       "      <td>39</td>\n",
       "      <td>0.2</td>\n",
       "      <td>187</td>\n",
       "      <td>4</td>\n",
       "      <td>...</td>\n",
       "      <td>915</td>\n",
       "      <td>1965</td>\n",
       "      <td>2032</td>\n",
       "      <td>11</td>\n",
       "      <td>10</td>\n",
       "      <td>16</td>\n",
       "      <td>1</td>\n",
       "      <td>1</td>\n",
       "      <td>1</td>\n",
       "      <td>2</td>\n",
       "    </tr>\n",
       "    <tr>\n",
       "      <th>1997</th>\n",
       "      <td>1911</td>\n",
       "      <td>0</td>\n",
       "      <td>0.9</td>\n",
       "      <td>1</td>\n",
       "      <td>1</td>\n",
       "      <td>1</td>\n",
       "      <td>36</td>\n",
       "      <td>0.7</td>\n",
       "      <td>108</td>\n",
       "      <td>8</td>\n",
       "      <td>...</td>\n",
       "      <td>868</td>\n",
       "      <td>1632</td>\n",
       "      <td>3057</td>\n",
       "      <td>9</td>\n",
       "      <td>1</td>\n",
       "      <td>5</td>\n",
       "      <td>1</td>\n",
       "      <td>1</td>\n",
       "      <td>0</td>\n",
       "      <td>3</td>\n",
       "    </tr>\n",
       "    <tr>\n",
       "      <th>1998</th>\n",
       "      <td>1512</td>\n",
       "      <td>0</td>\n",
       "      <td>0.9</td>\n",
       "      <td>0</td>\n",
       "      <td>4</td>\n",
       "      <td>1</td>\n",
       "      <td>46</td>\n",
       "      <td>0.1</td>\n",
       "      <td>145</td>\n",
       "      <td>5</td>\n",
       "      <td>...</td>\n",
       "      <td>336</td>\n",
       "      <td>670</td>\n",
       "      <td>869</td>\n",
       "      <td>18</td>\n",
       "      <td>10</td>\n",
       "      <td>19</td>\n",
       "      <td>1</td>\n",
       "      <td>1</td>\n",
       "      <td>1</td>\n",
       "      <td>0</td>\n",
       "    </tr>\n",
       "    <tr>\n",
       "      <th>1999</th>\n",
       "      <td>510</td>\n",
       "      <td>1</td>\n",
       "      <td>2.0</td>\n",
       "      <td>1</td>\n",
       "      <td>5</td>\n",
       "      <td>1</td>\n",
       "      <td>45</td>\n",
       "      <td>0.9</td>\n",
       "      <td>168</td>\n",
       "      <td>6</td>\n",
       "      <td>...</td>\n",
       "      <td>483</td>\n",
       "      <td>754</td>\n",
       "      <td>3919</td>\n",
       "      <td>19</td>\n",
       "      <td>4</td>\n",
       "      <td>2</td>\n",
       "      <td>1</td>\n",
       "      <td>1</td>\n",
       "      <td>1</td>\n",
       "      <td>3</td>\n",
       "    </tr>\n",
       "  </tbody>\n",
       "</table>\n",
       "<p>2000 rows × 21 columns</p>\n",
       "</div>"
      ]
     },
     "execution_count": 55,
     "metadata": {},
     "output_type": "execute_result"
    }
   ],
   "execution_count": 55
  },
  {
   "metadata": {
    "ExecuteTime": {
     "end_time": "2025-05-28T23:13:05.918898Z",
     "start_time": "2025-05-28T23:13:05.914733Z"
    }
   },
   "cell_type": "code",
   "source": [
    "xphones = dfphones.drop(columns=['price_range'])  # все столбцы кроме 'Type' — признаки\n",
    "yphones = dfphones['price_range'] "
   ],
   "outputs": [],
   "execution_count": 56
  },
  {
   "metadata": {},
   "cell_type": "markdown",
   "source": [
    "### RandomForest  \n",
    "Для решения задачи классификации ценовых диапазонов часто используют алгоритмы машинного обучения, одним из которых является случайный лес (Random Forest). Этот метод основан на построении множества решающих деревьев, каждое из которых принимает решение о принадлежности телефона к определённой ценовой категории. Результаты отдельных деревьев объединяются для повышения точности и устойчивости модели. Случайный лес хорошо справляется с задачами, где данные имеют большое количество признаков и сложные зависимости, а также помогает избежать переобучения, что делает его эффективным инструментом для анализа и прогнозирования в подобных задачах. \n",
    " \n",
    "Дерево решений строится путём последовательного разбиения исходных данных на более однородные подмножества на основе значений признаков. На каждом узле дерева выбирается такой признак и пороговое значение, которые максимально разделяют данные по классам (в задаче классификации) или минимизируют ошибку (в регрессии). Для этого используются критерии, такие как энтропия, индекс Джини или среднеквадратичная ошибка. Процесс деления повторяется рекурсивно, пока не будет достигнут заданный критерий остановки — например, максимальная глубина дерева или минимальное число объектов в листовом узле.\n",
    "\n",
    "В итоге дерево состоит из узлов с условиями разбиения и листьев, которые содержат итоговое решение — класс или значение целевой переменной. Для классификации листовой узел присваивает метку класса, чаще всего встречающегося в этом подмножестве данных.\n",
    "\n",
    "Когда дерево применяется к новому объекту, его признаки последовательно проверяются согласно условиям узлов, и объект проходит по ветвям дерева от корня к листу. В листовом узле получается предсказание модели для данного объекта.\n",
    "\n",
    "Модель случайного леса — это множество таких деревьев, каждое из которых построено на случайной выборке данных и случайном подмножестве признаков. Для предсказания новая точка прогоняется через все деревья, и результаты их классификации объединяются голосованием большинства. Такой ансамблевый подход уменьшает вероятность ошибок и делает модель более стабильной и точной по сравнению с одним деревом решений."
   ]
  },
  {
   "metadata": {
    "ExecuteTime": {
     "end_time": "2025-05-28T23:13:08.107960Z",
     "start_time": "2025-05-28T23:13:08.058079Z"
    }
   },
   "cell_type": "code",
   "source": [
    "X_train, X_test, y_train, y_test = train_test_split(xphones, yphones, test_size=0.2, random_state=42)\n",
    "\n",
    "# Упрощённая \"так себе\" модель\n",
    "rf_simple = RandomForestClassifier(n_estimators=10, max_depth=10, random_state=42)\n",
    "\n",
    "rf_simple.fit(X_train, y_train)\n",
    "y_pred = rf_simple.predict(X_test)\n",
    "print(\"Отчёт по классификации на тестовой выборке:\")\n",
    "print(classification_report(y_test, y_pred))\n"
   ],
   "outputs": [
    {
     "name": "stdout",
     "output_type": "stream",
     "text": [
      "Отчёт по классификации на тестовой выборке:\n",
      "              precision    recall  f1-score   support\n",
      "\n",
      "           0       0.86      0.90      0.88       105\n",
      "           1       0.72      0.64      0.67        91\n",
      "           2       0.63      0.67      0.65        92\n",
      "           3       0.85      0.84      0.84       112\n",
      "\n",
      "    accuracy                           0.77       400\n",
      "   macro avg       0.76      0.76      0.76       400\n",
      "weighted avg       0.77      0.77      0.77       400\n",
      "\n"
     ]
    }
   ],
   "execution_count": 57
  },
  {
   "metadata": {},
   "cell_type": "markdown",
   "source": [
    "Получаем довольно низкую точность  \n",
    "Каждый четвёртый ответ неверный"
   ]
  },
  {
   "metadata": {
    "ExecuteTime": {
     "end_time": "2025-05-28T23:13:10.461834Z",
     "start_time": "2025-05-28T23:13:10.359579Z"
    }
   },
   "cell_type": "code",
   "source": [
    "cm = confusion_matrix(y_test, y_pred, labels=rf_simple.classes_)\n",
    "\n",
    "disp = ConfusionMatrixDisplay(confusion_matrix=cm, display_labels=rf_simple.classes_)\n",
    "\n",
    "fig, ax = plt.subplots(figsize=(8,6))\n",
    "disp.plot(ax=ax, cmap=plt.cm.Oranges)\n",
    "plt.title(\"Confusion Matrix\")\n",
    "plt.show()\n"
   ],
   "outputs": [
    {
     "data": {
      "text/plain": [
       "<Figure size 800x600 with 2 Axes>"
      ],
      "image/png": "[encoded data removed]"
     },
     "metadata": {},
     "output_type": "display_data"
    }
   ],
   "execution_count": 58
  },
  {
   "metadata": {},
   "cell_type": "markdown",
   "source": [
    "Попробуем повысить точность модели случайного леса с помощью подбора гиперпараметров — это важный шаг, который помогает найти оптимальные настройки модели для конкретной задачи и данных.\n",
    "\n",
    "В нашем случае мы будем использовать сеточный поиск (Grid Search), перебирая разные значения основных гиперпараметров модели:\n",
    "\n",
    "**n_estimators** — количество деревьев в лесу. Чем больше деревьев, тем стабильнее и точнее прогнозы, но увеличивается время обучения и вычислительные ресурсы. Обычно берут от нескольких десятков до нескольких сотен.\n",
    "\n",
    "**max_depth** — максимальная глубина каждого дерева. Ограничение глубины помогает избежать переобучения: слишком глубокие деревья «запоминают» данные, а слишком мелкие могут плохо учиться.\n",
    "\n",
    "**min_samples_split** — это минимальное количество объектов (примеров) в узле (то есть в текущей точке дерева), при котором дерево разрешает разделить этот узел на два дочерних. Если в узле объектов меньше этого числа, разбиение не происходит — узел становится листом.\n",
    "\n",
    "**min_samples_leaf** — это минимальное количество объектов, которое должно оказаться в листовом узле (то есть в конечном «крайнем» узле дерева после разбиения). При делении дерева учитывается, чтобы ни один из новых листьев не содержал меньше объектов, чем этот параметр.\n",
    "\n",
    "**bootstrap** — использовать ли метод бутстрэп (выборки с возвращением) для формирования обучающей выборки каждого дерева. Если False — все деревья обучаются на одном наборе данных."
   ]
  },
  {
   "metadata": {
    "ExecuteTime": {
     "end_time": "2025-05-28T23:13:57.298545Z",
     "start_time": "2025-05-28T23:13:16.291951Z"
    }
   },
   "cell_type": "code",
   "source": [
    "# Делим данные\n",
    "X_train, X_test, y_train, y_test = train_test_split(xphones, yphones, test_size=0.2, random_state=42)\n",
    "\n",
    "\n",
    "# Создаем базовый классификатор\n",
    "rf = RandomForestClassifier(random_state=42)\n",
    "\n",
    "# Параметры для Grid Search\n",
    "param_grid = {\n",
    "    'n_estimators': [50, 100, 200],         # число деревьев\n",
    "    'max_depth': [None, 10, 20, 30],        # глубина дерева\n",
    "    'min_samples_split': [2, 5, 10],        # минимальное число объектов для разбиения\n",
    "    'min_samples_leaf': [1, 2, 4],           # минимальное число листьев\n",
    "    'bootstrap': [True, False]               # использовать ли бутстрэп\n",
    "}\n",
    "\n",
    "# Запускаем GridSearchCV\n",
    "grid_search = GridSearchCV(rf, param_grid, cv=5, scoring='accuracy', n_jobs=-1)\n",
    "grid_search.fit(X_train, y_train)\n",
    "y_pred = grid_search.predict(X_test)\n",
    "print(\"Отчёт по классификации на тестовой выборке:\")\n",
    "print(classification_report(y_test, y_pred))"
   ],
   "outputs": [
    {
     "name": "stdout",
     "output_type": "stream",
     "text": [
      "Отчёт по классификации на тестовой выборке:\n",
      "              precision    recall  f1-score   support\n",
      "\n",
      "           0       0.94      0.96      0.95       105\n",
      "           1       0.89      0.86      0.87        91\n",
      "           2       0.80      0.86      0.83        92\n",
      "           3       0.93      0.88      0.91       112\n",
      "\n",
      "    accuracy                           0.89       400\n",
      "   macro avg       0.89      0.89      0.89       400\n",
      "weighted avg       0.89      0.89      0.89       400\n",
      "\n"
     ]
    }
   ],
   "execution_count": 59
  },
  {
   "metadata": {
    "ExecuteTime": {
     "end_time": "2025-05-28T23:14:57.051535Z",
     "start_time": "2025-05-28T23:14:56.957360Z"
    }
   },
   "cell_type": "code",
   "source": [
    "cm = confusion_matrix(y_test, y_pred, labels=grid_search.classes_)\n",
    "\n",
    "disp = ConfusionMatrixDisplay(confusion_matrix=cm, display_labels=grid_search.classes_)\n",
    "\n",
    "fig, ax = plt.subplots(figsize=(8,6))\n",
    "disp.plot(ax=ax, cmap=plt.cm.Oranges)\n",
    "plt.title(\"Confusion Matrix\")\n",
    "plt.show()"
   ],
   "outputs": [
    {
     "data": {
      "text/plain": [
       "<Figure size 800x600 with 2 Axes>"
      ],
      "image/png": "[encoded data removed]"
     },
     "metadata": {},
     "output_type": "display_data"
    }
   ],
   "execution_count": 60
  },
  {
   "metadata": {},
   "cell_type": "markdown",
   "source": "Подбор гиперпараметров позволил оптимизировать работу модели на числовых данных, что привело к улучшению её точности и способности лучше обобщать информацию, снижая риск переобучения.\n"
  },
  {
   "metadata": {},
   "cell_type": "markdown",
   "source": [
    "### Класификация Chinese MNIST\n",
    "---"
   ]
  },
  {
   "metadata": {},
   "cell_type": "markdown",
   "source": "Датасет Chinese MNIST in CSV представляет собой набор данных, содержащий изображения китайских символов. В каждом примере 4096 чисел — это пиксели изображения размером 64×64, где значение пикселя отражает уровень яркости: чем больше число, тем светлее (белее) точка на изображении. То есть пиксели с низкими значениями — это более тёмные участки, а с высокими — более светлые. Кроме того, в датасете присутствуют метки: числовая метка (label), которая обозначает класс символа, и сам символ (character) — иероглиф, изображённый на картинке. Такой датасет используется для задач классификации рукописных или печатных китайских символов.  "
  },
  {
   "metadata": {
    "ExecuteTime": {
     "end_time": "2025-05-28T23:15:06.387533Z",
     "start_time": "2025-05-28T23:15:02.937924Z"
    }
   },
   "cell_type": "code",
   "source": [
    "df = pd.read_csv('chineseMNIST.csv')\n",
    "num_samples = df.shape[0]\n",
    "num_pixels = len([col for col in df.columns if col.startswith('pixel_')])\n",
    "unique_labels = df['label'].nunique()\n",
    "\n",
    "print(f'Всего примеров: {num_samples}')\n",
    "print(f'Размер изображения: {num_pixels} пикселей')\n",
    "print(f'Уникальных числовых меток: {unique_labels}')"
   ],
   "outputs": [
    {
     "name": "stdout",
     "output_type": "stream",
     "text": [
      "Всего примеров: 15000\n",
      "Размер изображения: 4096 пикселей\n",
      "Уникальных числовых меток: 15\n"
     ]
    }
   ],
   "execution_count": 61
  },
  {
   "metadata": {},
   "cell_type": "markdown",
   "source": "Напечатаем два символа из нашего набора данных."
  },
  {
   "metadata": {
    "ExecuteTime": {
     "end_time": "2025-05-28T23:15:09.197663Z",
     "start_time": "2025-05-28T23:15:09.086135Z"
    }
   },
   "cell_type": "code",
   "source": [
    "X = df.loc[:, 'pixel_0':'pixel_4095'].values\n",
    "y = df['label'].values\n",
    "\n",
    "image = X[0].reshape(64, 64)\n",
    "label = y[0]\n",
    "\n",
    "\n",
    "plt.imshow(image, cmap='gray')\n",
    "plt.title(f'Label: {label}')\n",
    "plt.axis('off')\n",
    "plt.show()\n"
   ],
   "outputs": [
    {
     "data": {
      "text/plain": [
       "<Figure size 640x480 with 1 Axes>"
      ],
      "image/png": "[encoded data removed]"
     },
     "metadata": {},
     "output_type": "display_data"
    }
   ],
   "execution_count": 62
  },
  {
   "metadata": {
    "ExecuteTime": {
     "end_time": "2025-05-28T23:15:14.380269Z",
     "start_time": "2025-05-28T23:15:14.330121Z"
    }
   },
   "cell_type": "code",
   "source": [
    "image = X[1000].reshape(64, 64)  # второй символ — индекс 1\n",
    "label = y[1000]\n",
    "\n",
    "plt.imshow(image, cmap='gray')\n",
    "plt.title(f'Label: {label}')\n",
    "plt.axis('off')\n",
    "plt.show()"
   ],
   "outputs": [
    {
     "data": {
      "text/plain": [
       "<Figure size 640x480 with 1 Axes>"
      ],
      "image/png": "[encoded data removed]"
     },
     "metadata": {},
     "output_type": "display_data"
    }
   ],
   "execution_count": 63
  },
  {
   "metadata": {},
   "cell_type": "markdown",
   "source": "Попробуем обучить классификатор RandomForest на датасете Chinese MNIST, чтобы он научился угадывать иероглиф по картинке. (По значениям яркости в строке)"
  },
  {
   "metadata": {
    "ExecuteTime": {
     "end_time": "2025-05-28T23:15:36.249888Z",
     "start_time": "2025-05-28T23:15:22.471750Z"
    }
   },
   "cell_type": "code",
   "source": [
    "# Делим данные на обучающую и тестовую выборки (например, 80/20)\n",
    "X_train, X_test, y_train, y_test = train_test_split(X, y, test_size=0.2, random_state=42)\n",
    "\n",
    "# Создаем классификатор Random Forest\n",
    "clf = RandomForestClassifier(n_estimators=100, random_state=42)\n",
    "\n",
    "# Обучаем модель\n",
    "clf.fit(X_train, y_train)\n",
    "\n",
    "# Делаем предсказания на тесте\n",
    "y_pred = clf.predict(X_test)\n",
    "\n",
    "# Оцениваем качество\n",
    "print(f'Accuracy: {accuracy_score(y_test, y_pred):.4f}')\n",
    "print('Classification report:')\n",
    "print(classification_report(y_test, y_pred))"
   ],
   "outputs": [
    {
     "name": "stdout",
     "output_type": "stream",
     "text": [
      "Accuracy: 0.6107\n",
      "Classification report:\n",
      "              precision    recall  f1-score   support\n",
      "\n",
      "           0       0.51      0.85      0.64       186\n",
      "           1       0.73      0.95      0.82       182\n",
      "           2       0.59      0.67      0.63       206\n",
      "           3       0.54      0.58      0.56       198\n",
      "           4       0.72      0.69      0.70       194\n",
      "           5       0.61      0.55      0.58       207\n",
      "           6       0.53      0.57      0.55       203\n",
      "           7       0.56      0.56      0.56       201\n",
      "           8       0.75      0.78      0.77       188\n",
      "           9       0.60      0.37      0.46       201\n",
      "          10       0.60      0.76      0.67       189\n",
      "          11       0.58      0.43      0.50       209\n",
      "          12       0.66      0.56      0.61       221\n",
      "          13       0.57      0.45      0.50       217\n",
      "          14       0.64      0.50      0.56       198\n",
      "\n",
      "    accuracy                           0.61      3000\n",
      "   macro avg       0.61      0.62      0.61      3000\n",
      "weighted avg       0.61      0.61      0.60      3000\n",
      "\n"
     ]
    }
   ],
   "execution_count": 64
  },
  {
   "metadata": {
    "ExecuteTime": {
     "end_time": "2025-05-28T20:49:44.032441Z",
     "start_time": "2025-05-28T20:49:43.764422Z"
    }
   },
   "cell_type": "code",
   "source": [
    "cm_orig = confusion_matrix(y_test, y_pred, labels=clf.classes_)\n",
    "disp_orig = ConfusionMatrixDisplay(confusion_matrix=cm_orig, display_labels=clf.classes_)\n",
    "\n",
    "fig, ax = plt.subplots(figsize=(8, 6))\n",
    "disp_orig.plot(ax=ax, cmap=plt.cm.Oranges)\n",
    "plt.title(\"Confusion Matrix — Before Augmentation\")\n",
    "plt.show()"
   ],
   "outputs": [
    {
     "data": {
      "text/plain": [
       "<Figure size 800x600 with 2 Axes>"
      ],
      "image/png": "[encoded data removed]"
     },
     "metadata": {},
     "output_type": "display_data"
    }
   ],
   "execution_count": 59
  },
  {
   "metadata": {},
   "cell_type": "markdown",
   "source": "Низкая точность предсказаний. Попробуем улучшить нашу модель: аугментируем тренировочные данные, а затем заново обучим классификатор. Тестовые данные оставим без изменений."
  },
  {
   "metadata": {
    "ExecuteTime": {
     "end_time": "2025-05-28T20:50:24.217790Z",
     "start_time": "2025-05-28T20:49:48.037085Z"
    }
   },
   "cell_type": "code",
   "source": [
    "# Применим аугментацию со сдвигом\n",
    "X_aug1, y_aug1 = augment_with_shift_china(X_train, y_train)\n",
    "\n",
    "# Применим аугментацию с поворотом к уже аугментированным данным\n",
    "X_final, y_final = augment_with_rotate_china(X_aug1, y_aug1)\n",
    "\n",
    "print(\"До аугментации:\", X_train.shape[0])\n",
    "print(\"После аугментации:\", X_final.shape[0])"
   ],
   "outputs": [
    {
     "name": "stdout",
     "output_type": "stream",
     "text": [
      "До аугментации: 15000\n",
      "После аугментации: 108000\n"
     ]
    }
   ],
   "execution_count": 60
  },
  {
   "metadata": {
    "ExecuteTime": {
     "end_time": "2025-05-28T20:52:14.630253Z",
     "start_time": "2025-05-28T20:51:49.435190Z"
    }
   },
   "cell_type": "code",
   "source": [
    "# Обучим случайный лес\n",
    "clf = RandomForestClassifier(n_estimators=100, n_jobs=-1, random_state=42)\n",
    "clf.fit(X_final, y_final)\n",
    "\n",
    "# Предскажем на тестовой выборке\n",
    "y_pred = clf.predict(X_test)\n",
    "\n",
    "# Выведем метрики\n",
    "print(classification_report(y_test, y_pred))"
   ],
   "outputs": [
    {
     "name": "stdout",
     "output_type": "stream",
     "text": [
      "              precision    recall  f1-score   support\n",
      "\n",
      "           0       0.68      0.88      0.77       186\n",
      "           1       0.83      0.98      0.90       182\n",
      "           2       0.64      0.83      0.72       206\n",
      "           3       0.70      0.71      0.71       198\n",
      "           4       0.82      0.80      0.81       194\n",
      "           5       0.87      0.70      0.78       207\n",
      "           6       0.66      0.69      0.67       203\n",
      "           7       0.72      0.77      0.74       201\n",
      "           8       0.78      0.84      0.81       188\n",
      "           9       0.78      0.50      0.61       201\n",
      "          10       0.67      0.83      0.74       189\n",
      "          11       0.77      0.59      0.67       209\n",
      "          12       0.71      0.67      0.69       221\n",
      "          13       0.76      0.68      0.72       217\n",
      "          14       0.76      0.63      0.69       198\n",
      "\n",
      "    accuracy                           0.74      3000\n",
      "   macro avg       0.74      0.74      0.73      3000\n",
      "weighted avg       0.74      0.74      0.73      3000\n",
      "\n"
     ]
    }
   ],
   "execution_count": 61
  },
  {
   "metadata": {
    "ExecuteTime": {
     "end_time": "2025-05-28T20:52:24.049729Z",
     "start_time": "2025-05-28T20:52:23.784730Z"
    }
   },
   "cell_type": "code",
   "source": [
    "cm_aug = confusion_matrix(y_test, y_pred, labels=clf.classes_)\n",
    "disp_aug = ConfusionMatrixDisplay(confusion_matrix=cm_aug, display_labels=clf.classes_)\n",
    "\n",
    "fig, ax = plt.subplots(figsize=(8, 6))\n",
    "disp_aug.plot(ax=ax, cmap=plt.cm.Greens)\n",
    "plt.title(\"Confusion Matrix — After Augmentation\")\n",
    "plt.show()\n"
   ],
   "outputs": [
    {
     "data": {
      "text/plain": [
       "<Figure size 800x600 with 2 Axes>"
      ],
      "image/png": "[encoded data removed]"
     },
     "metadata": {},
     "output_type": "display_data"
    }
   ],
   "execution_count": 62
  },
  {
   "metadata": {},
   "cell_type": "markdown",
   "source": "Несмотря на то, что количество примеров для каждого иероглифа одинаковое, модель чаще всего ошибалась при распознавании символов с метками 9, 11 и 14. Это может быть связано с визуальной схожестью этих иероглифов с другими классами, либо с их сложной структурой, которую труднее выделить на изображении."
  },
  {
   "metadata": {
    "ExecuteTime": {
     "end_time": "2025-05-28T20:52:31.512866Z",
     "start_time": "2025-05-28T20:52:31.334090Z"
    }
   },
   "cell_type": "code",
   "source": [
    "idx_9 = next(i for i, label in enumerate(y) if label == 9)\n",
    "idx_11 = next(i for i, label in enumerate(y) if label == 11)\n",
    "idx_14 = next(i for i, label in enumerate(y) if label == 14)\n",
    "\n",
    "# Восстановим изображения\n",
    "img_9 = X[idx_9].reshape(64, 64)\n",
    "img_11 = X[idx_11].reshape(64, 64)\n",
    "img_14 = X[idx_14].reshape(64, 64)\n",
    "\n",
    "# Построим изображения\n",
    "fig, axs = plt.subplots(1, 3, figsize=(12, 4))\n",
    "\n",
    "axs[0].imshow(img_9, cmap='gray')\n",
    "axs[0].set_title('Label: 9')\n",
    "axs[0].axis('off')\n",
    "\n",
    "axs[1].imshow(img_11, cmap='gray')\n",
    "axs[1].set_title('Label: 11')\n",
    "axs[1].axis('off')\n",
    "\n",
    "axs[2].imshow(img_14, cmap='gray')\n",
    "axs[2].set_title('Label: 14')\n",
    "axs[2].axis('off')\n",
    "\n",
    "plt.tight_layout()\n",
    "plt.show()"
   ],
   "outputs": [
    {
     "data": {
      "text/plain": [
       "<Figure size 1200x400 with 3 Axes>"
      ],
      "image/png": "[encoded data removed]"
     },
     "metadata": {},
     "output_type": "display_data"
    }
   ],
   "execution_count": 63
  },
  {
   "metadata": {},
   "cell_type": "markdown",
   "source": "Аугументация данных позволила повысить точность модели примерно на 10%, что уже является заметным улучшением, однако результат всё ещё далёк от идеального. Это говорит о том, что одной аугументации недостаточно: для дальнейшего повышения качества классификации необходимо использовать более сложные подходы. Одним из таких решений являются сверточные нейронные сети (CNN), которые лучше адаптированы к обработке изображений и способны учитывать пространственные зависимости между пикселями, что делает их особенно эффективными в задачах распознавания."
  },
  {
   "metadata": {},
   "cell_type": "markdown",
   "source": [
    "## Сверточные нейронные сети (CNN, от англ. Convolutional Neural Networks)\n",
    "---\n",
    "Сверточные нейронные сети (CNN, от англ. Convolutional Neural Networks) — это тип нейросетей, который особенно хорошо работает с изображениями. В отличие от обычных нейросетей, которые просто “смотрят” на набор чисел, CNN “видит” изображение почти так же, как человек: она замечает линии, края, формы и постепенно собирает их в сложные объекты — в нашем случае, в китайские иероглифы.\n",
    "\n",
    "Мы используем CNN из библиотеки TensorFlow, чтобы улучшить качество распознавания китайских символов. Эта сеть проходит по изображениям, находит характерные признаки и учится отличать одни иероглифы от других. Она автоматически определяет, какие именно особенности изображения важны для распознавания, поэтому её результат получается точнее, чем у простых алгоритмов вроде случайного леса.\n"
   ]
  },
  {
   "metadata": {
    "ExecuteTime": {
     "end_time": "2025-05-28T20:53:43.123779Z",
     "start_time": "2025-05-28T20:52:38.448546Z"
    }
   },
   "cell_type": "code",
   "source": [
    "# Подготовка данных (как и ранее)\n",
    "X_train = X_train.reshape(-1, 64, 64, 1).astype('float32') / 255.\n",
    "X_test = X_test.reshape(-1, 64, 64, 1).astype('float32') / 255.\n",
    "\n",
    "le = LabelEncoder()\n",
    "y_train_enc = le.fit_transform(y_train)\n",
    "y_test_enc = le.transform(y_test)\n",
    "\n",
    "y_train_cat = to_categorical(y_train_enc)\n",
    "y_test_cat = to_categorical(y_test_enc)\n",
    "\n",
    "num_classes = y_train_cat.shape[1]\n",
    "\n",
    "# Модель\n",
    "model = models.Sequential([\n",
    "    layers.Conv2D(32, (3,3), activation='relu', input_shape=(64,64,1)),\n",
    "    layers.MaxPooling2D((2,2)),\n",
    "    layers.Conv2D(64, (3,3), activation='relu'),\n",
    "    layers.MaxPooling2D((2,2)),\n",
    "    layers.Flatten(),\n",
    "    layers.Dense(128, activation='relu'),\n",
    "    layers.Dense(num_classes, activation='softmax')\n",
    "])\n",
    "\n",
    "model.compile(optimizer='adam',\n",
    "              loss='categorical_crossentropy',\n",
    "              metrics=['accuracy'])\n",
    "\n",
    "# Обучение\n",
    "history = model.fit(X_train, y_train_cat, epochs=10, batch_size=32, validation_split=0.1)\n"
   ],
   "outputs": [
    {
     "name": "stdout",
     "output_type": "stream",
     "text": [
      "Epoch 1/10\n"
     ]
    },
    {
     "name": "stderr",
     "output_type": "stream",
     "text": [
      "C:\\Users\\maksi\\AppData\\Local\\Programs\\Python\\Python312\\Lib\\site-packages\\keras\\src\\layers\\convolutional\\base_conv.py:113: UserWarning: Do not pass an `input_shape`/`input_dim` argument to a layer. When using Sequential models, prefer using an `Input(shape)` object as the first layer in the model instead.\n",
      "  super().__init__(activity_regularizer=activity_regularizer, **kwargs)\n"
     ]
    },
    {
     "name": "stdout",
     "output_type": "stream",
     "text": [
      "\u001B[1m338/338\u001B[0m \u001B[32m━━━━━━━━━━━━━━━━━━━━\u001B[0m\u001B[37m\u001B[0m \u001B[1m7s\u001B[0m 19ms/step - accuracy: 0.5065 - loss: 1.5630 - val_accuracy: 0.8717 - val_loss: 0.4252\n",
      "Epoch 2/10\n",
      "\u001B[1m338/338\u001B[0m \u001B[32m━━━━━━━━━━━━━━━━━━━━\u001B[0m\u001B[37m\u001B[0m \u001B[1m6s\u001B[0m 19ms/step - accuracy: 0.8998 - loss: 0.3105 - val_accuracy: 0.9250 - val_loss: 0.2617\n",
      "Epoch 3/10\n",
      "\u001B[1m338/338\u001B[0m \u001B[32m━━━━━━━━━━━━━━━━━━━━\u001B[0m\u001B[37m\u001B[0m \u001B[1m6s\u001B[0m 18ms/step - accuracy: 0.9423 - loss: 0.1673 - val_accuracy: 0.9158 - val_loss: 0.2751\n",
      "Epoch 4/10\n",
      "\u001B[1m338/338\u001B[0m \u001B[32m━━━━━━━━━━━━━━━━━━━━\u001B[0m\u001B[37m\u001B[0m \u001B[1m6s\u001B[0m 19ms/step - accuracy: 0.9666 - loss: 0.1055 - val_accuracy: 0.9375 - val_loss: 0.2060\n",
      "Epoch 5/10\n",
      "\u001B[1m338/338\u001B[0m \u001B[32m━━━━━━━━━━━━━━━━━━━━\u001B[0m\u001B[37m\u001B[0m \u001B[1m6s\u001B[0m 19ms/step - accuracy: 0.9787 - loss: 0.0666 - val_accuracy: 0.9417 - val_loss: 0.2295\n",
      "Epoch 6/10\n",
      "\u001B[1m338/338\u001B[0m \u001B[32m━━━━━━━━━━━━━━━━━━━━\u001B[0m\u001B[37m\u001B[0m \u001B[1m7s\u001B[0m 19ms/step - accuracy: 0.9821 - loss: 0.0559 - val_accuracy: 0.9425 - val_loss: 0.2212\n",
      "Epoch 7/10\n",
      "\u001B[1m338/338\u001B[0m \u001B[32m━━━━━━━━━━━━━━━━━━━━\u001B[0m\u001B[37m\u001B[0m \u001B[1m6s\u001B[0m 19ms/step - accuracy: 0.9907 - loss: 0.0376 - val_accuracy: 0.9592 - val_loss: 0.1833\n",
      "Epoch 8/10\n",
      "\u001B[1m338/338\u001B[0m \u001B[32m━━━━━━━━━━━━━━━━━━━━\u001B[0m\u001B[37m\u001B[0m \u001B[1m6s\u001B[0m 19ms/step - accuracy: 0.9915 - loss: 0.0271 - val_accuracy: 0.9533 - val_loss: 0.2040\n",
      "Epoch 9/10\n",
      "\u001B[1m338/338\u001B[0m \u001B[32m━━━━━━━━━━━━━━━━━━━━\u001B[0m\u001B[37m\u001B[0m \u001B[1m6s\u001B[0m 19ms/step - accuracy: 0.9917 - loss: 0.0303 - val_accuracy: 0.9425 - val_loss: 0.2352\n",
      "Epoch 10/10\n",
      "\u001B[1m338/338\u001B[0m \u001B[32m━━━━━━━━━━━━━━━━━━━━\u001B[0m\u001B[37m\u001B[0m \u001B[1m6s\u001B[0m 19ms/step - accuracy: 0.9902 - loss: 0.0328 - val_accuracy: 0.9500 - val_loss: 0.2228\n"
     ]
    }
   ],
   "execution_count": 64
  },
  {
   "metadata": {
    "ExecuteTime": {
     "end_time": "2025-05-28T20:53:50.259970Z",
     "start_time": "2025-05-28T20:53:49.702043Z"
    }
   },
   "cell_type": "code",
   "source": [
    "# Предсказание классов на тесте\n",
    "y_pred_prob = model.predict(X_test)\n",
    "y_pred = np.argmax(y_pred_prob, axis=1)\n",
    "\n",
    "# Классический отчёт\n",
    "print(classification_report(y_test_enc, y_pred, target_names=le.classes_.astype(str)))"
   ],
   "outputs": [
    {
     "name": "stdout",
     "output_type": "stream",
     "text": [
      "\u001B[1m94/94\u001B[0m \u001B[32m━━━━━━━━━━━━━━━━━━━━\u001B[0m\u001B[37m\u001B[0m \u001B[1m0s\u001B[0m 5ms/step\n",
      "              precision    recall  f1-score   support\n",
      "\n",
      "           0       1.00      0.94      0.97       186\n",
      "           1       0.96      0.99      0.97       182\n",
      "           2       0.95      0.92      0.93       206\n",
      "           3       0.91      0.94      0.93       198\n",
      "           4       0.98      0.99      0.99       194\n",
      "           5       0.98      0.92      0.95       207\n",
      "           6       0.98      0.98      0.98       203\n",
      "           7       0.97      0.97      0.97       201\n",
      "           8       0.95      0.99      0.97       188\n",
      "           9       0.94      0.94      0.94       201\n",
      "          10       0.89      0.99      0.94       189\n",
      "          11       0.89      0.96      0.92       209\n",
      "          12       0.99      0.90      0.94       221\n",
      "          13       0.97      0.97      0.97       217\n",
      "          14       0.98      0.93      0.95       198\n",
      "\n",
      "    accuracy                           0.95      3000\n",
      "   macro avg       0.96      0.96      0.96      3000\n",
      "weighted avg       0.96      0.95      0.96      3000\n",
      "\n"
     ]
    }
   ],
   "execution_count": 65
  },
  {
   "metadata": {
    "ExecuteTime": {
     "end_time": "2025-05-28T20:56:07.429080Z",
     "start_time": "2025-05-28T20:56:07.171549Z"
    }
   },
   "cell_type": "code",
   "source": [
    "cm = confusion_matrix(y_test_enc, y_pred, labels=range(num_classes))\n",
    "disp = ConfusionMatrixDisplay(confusion_matrix=cm, display_labels=le.classes_)\n",
    "\n",
    "fig, ax = plt.subplots(figsize=(8, 6))\n",
    "disp.plot(ax=ax, cmap=plt.cm.Oranges)\n",
    "plt.title(\"Confusion Matrix — CNN\")\n",
    "plt.show()"
   ],
   "outputs": [
    {
     "data": {
      "text/plain": [
       "<Figure size 800x600 with 2 Axes>"
      ],
      "image/png": "[encoded data removed]"
     },
     "metadata": {},
     "output_type": "display_data"
    }
   ],
   "execution_count": 66
  },
  {
   "metadata": {},
   "cell_type": "markdown",
   "source": "CNN продемонстрировала максимальную точность около 0.95, что значительно превосходит результаты, полученные с помощью случайного леса. Это говорит о том, что использование сверточных нейронных сетей позволяет более эффективно распознавать китайские иероглифы. Кроме того, повышение точности благодаря применению CNN оказалось заметно выше, чем улучшение, достигнутое за счёт аугментации данных. Таким образом, внедрение CNN является более мощным способом улучшения качества модели в нашей задаче."
  },
  {
   "metadata": {},
   "cell_type": "markdown",
   "source": [
    "В ходе лабораторной работы мы убедились, что аугментация данных и подбор гиперпараметров помогают повысить точность модели. Аугментация расширяет тренировочный набор, добавляя вариации изображений, что улучшает обучение, а оптимизация параметров позволяет модели работать эффективнее. Однако результаты ограничены возможностями выбранного алгоритма и характеристиками датасета.\n",
    "\n",
    "Наиболее заметное улучшение показала сверточная нейронная сеть (CNN), достигшая точности около 95%, что значительно выше, чем у случайного леса. CNN лучше справляется с задачей распознавания иероглифов благодаря способности выявлять пространственные особенности изображений. Это подтверждает, что глубокие методы являются наиболее перспективным инструментом для работы с визуальными данными.\n",
    "\n",
    "При оценке модели важно смотреть не только на accuracy — общую долю правильных предсказаний, но и на precision (точность, насколько верны положительные предсказания) и recall (полноту, насколько хорошо модель находит все нужные объекты). Аугментация данных может улучшить recall, помогая модели лучше распознавать редкие или сложные классы, либо повысить precision, снижая количество ложных срабатываний. Выбор и значимость этих метрик зависят от конкретной задачи и цели, поэтому всегда нужно учитывать их вместе, чтобы полноценно оценить качество модели."
   ]
  }
 ],
 "metadata": {
  "colab": {
   "provenance": [],
   "authorship_tag": "ABX9TyOyTvoRgZddb/Zzdf8gSgat"
  },
  "kernelspec": {
   "display_name": "Python 3 (ipykernel)",
   "name": "python3",
   "language": "python"
  },
  "language_info": {
   "name": "python"
  }
 },
 "nbformat": 4,
 "nbformat_minor": 0
}
