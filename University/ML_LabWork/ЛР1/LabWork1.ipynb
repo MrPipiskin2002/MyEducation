{
 "nbformat": 4,
 "nbformat_minor": 0,
 "metadata": {
  "colab": {
   "provenance": [],
   "mount_file_id": "1AFLg6dFi7DWrsd2XrOcR30nqjqdPyLj2",
   "authorship_tag": "ABX9TyNRTIed00NH+rjFywbyLoqG"
  },
  "kernelspec": {
   "name": "python3",
   "display_name": "Python 3 (ipykernel)",
   "language": "python"
  },
  "language_info": {
   "name": "python"
  }
 },
 "cells": [
  {
   "cell_type": "markdown",
   "source": [
    "# Лабораторная работа №1\n",
    "---\n",
    "### Решение задачи линейной регрессии с помощью\n",
    "* метода наименьших квадратов\n",
    "* псевдообратной матрицы\n",
    "* класса LinearRegression из Scikit-learn\n",
    "\n",
    "### Проверка гипотезы \"Зарплата работника прямо пропорционально зависит от его стажа работы\"\n",
    "\n"
   ],
   "metadata": {
    "id": "8LllZ09d35tL"
   }
  },
  {
   "metadata": {},
   "cell_type": "markdown",
   "source": [
    "#### Регрессия\n",
    "**Регрессия** — это метод статистического анализа и машинного обучения, который позволяет понять и смоделировать зависимость между одной целевой переменной и одной или несколькими входными переменными (признаками). Основная цель регрессии — предсказать численное значение целевой переменной на основе известных значений признаков.\n",
    "\n",
    "**Линейная регрессия** — это частный случай регрессии, где предполагается, что зависимость между признаками и целевой переменной является линейной. Цель — найти такие коэффициенты, чтобы модель максимально точно предсказывала целевую переменную."
   ]
  },
  {
   "cell_type": "markdown",
   "source": [
    "### Уравнение линейной регрессии. Общий вид\n",
    "\n",
    "$$ y = \\beta_0 + \\beta_1\\cdot f_1(x) + \\beta_2\\cdot f_2(x) + \\dots + \\beta_k\\cdot f_k(x) + r.  $$\n",
    "* $f_i - $ известные функции\n",
    "* $\\beta_i$ - коэффициенты регрессии (параметры, которые надо найти)\n",
    "$$ \\sum\\limits_{i = 1}^{k} r_i^2  \\rightarrow min$$"
   ],
   "metadata": {
    "id": "Hx5Q425f4ZNt"
   }
  },
  {
   "cell_type": "markdown",
   "source": [
    "### Уравнение линейной регрессии\n",
    "$$ y = \\beta_0 + \\beta_1\\cdot x $$"
   ],
   "metadata": {
    "id": "4QwkLQFTAucD"
   }
  },
  {
   "cell_type": "markdown",
   "source": [
    "### Обозначения\n",
    "$$ X \\vec{\\beta} = \\vec{y} $$\n",
    "* $ X $ - матрица факторов (design matrix)\n",
    "* $ \\vec{\\beta} $ - parameter vector (вектор параметров)\n",
    "* $ \\vec{y} $ - вектор наблюдений (observation vector) (вектор с данными(наблюдениями))\n",
    "* $y = \\beta_0 + \\beta_1 \\cdot x$ - линия регрессии\n",
    "* $\\beta_0, \\beta_1$ - коэффициенты регрессии\n",
    "\n",
    "$$ X =\n",
    "\\left[ {\\begin{array}{cc}\n",
    "    1 & x_1 \\\\\n",
    "    1 & x_2 \\\\\n",
    "    \\vdots & \\vdots \\\\\n",
    "    1 & x_n \\\\\n",
    "\\end{array} } \\right], \\ \\ \\\n",
    "\\vec{\\beta} =\n",
    "\\left[ {\\begin{array}{cc}\n",
    "    \\beta_0 \\\\\n",
    "    \\beta_1 \\\\\n",
    "\\end{array} } \\right], \\ \\ \\\n",
    "\\vec{y} =\n",
    "\\left[ {\\begin{array}{cc}\n",
    "    y_1 \\\\\n",
    "    y_2 \\\\\n",
    "    \\vdots \\\\\n",
    "    y_n \\\\\n",
    "\\end{array} } \\right].\n",
    "$$"
   ],
   "metadata": {
    "id": "ZaakM1AV33JB"
   }
  },
  {
   "metadata": {},
   "cell_type": "markdown",
   "source": [
    "## Способы оценки точности\n",
    "\n",
    "$ y_i $ — настоящие данные  \n",
    "$ \\hat{y}_i $ — что модель спрогнозировала для каждого объекта.  \n",
    "$ \\bar{y} $ - это среднее арифметическое всех наблюдений y.\n",
    "\n",
    "#### Сумма квадратов остатков (RSS):\n",
    "\n",
    "$$\n",
    "RSS = \\sum_{i=1}^n (y_i - \\hat{y}_i)^2\n",
    "$$\n",
    "\n",
    "\n",
    "#### Среднеквадратичная ошибка (MSE):\n",
    "\n",
    "$$\n",
    "MSE = \\frac{1}{n} \\sum_{i=1}^n (y_i - \\hat{y}_i)^2\n",
    "$$\n",
    "\n",
    "\n",
    "#### Корень из среднеквадратичной ошибки (RMSE):\n",
    "\n",
    "$$\n",
    "RMSE = \\sqrt{MSE}\n",
    "$$\n",
    "\n",
    "\n",
    "#### Средняя абсолютная ошибка (MAE):\n",
    "\n",
    "$$\n",
    "MAE = \\frac{1}{n} \\sum_{i=1}^n |y_i - \\hat{y}_i|\n",
    "$$\n",
    "\n",
    "\n",
    "#### Коэффициент детерминации \\( R^2 \\):\n",
    "\n",
    "$$\n",
    "R^2 = 1 - \\frac{\\sum_{i=1}^n (y_i - \\hat{y}_i)^2}{\\sum_{i=1}^n (y_i - \\bar{y})^2}\n",
    "$$\n",
    "\n",
    "Если важны большие ошибки — лучше смотреть MSE или RMSE.\n",
    "\n",
    "Если важна стабильность и меньше влияние выбросов — MAE.\n",
    "\n",
    "Для общей оценки качества — \n",
    "$ 𝑅^2 $. Коэффициент детерминации показывает, какую часть разброса (вариации) реальных данных по y объясняет модель."
   ]
  },
  {
   "cell_type": "markdown",
   "source": [
    "### Импорт обязательных библиотек для решения задачи и импорт датасета"
   ],
   "metadata": {
    "id": "xIowhwp94kym"
   }
  },
  {
   "cell_type": "code",
   "source": [
    "import pandas as pd\n",
    "import numpy as np\n",
    "import matplotlib.pyplot as plt\n",
    "from sklearn.linear_model import LinearRegression\n",
    "from sklearn.model_selection import train_test_split"
   ],
   "metadata": {
    "id": "waIoS7SSL8pT",
    "executionInfo": {
     "status": "ok",
     "timestamp": 1741699082975,
     "user_tz": -180,
     "elapsed": 7,
     "user": {
      "displayName": "Павел Кудрявцев",
      "userId": "17653119215636565892"
     }
    },
    "ExecuteTime": {
     "end_time": "2025-05-21T21:47:54.956100Z",
     "start_time": "2025-05-21T21:47:54.952865Z"
    }
   },
   "outputs": [],
   "execution_count": 134
  },
  {
   "cell_type": "markdown",
   "source": [
    "### Импорт датасета и вывод первых пяти строк для понимания, как он выглядит"
   ],
   "metadata": {
    "id": "a43FvsHbMDwU"
   }
  },
  {
   "metadata": {},
   "cell_type": "markdown",
   "source": "Датасет представляет собой таблицу с двумя основными признаками. В первом столбце указано количество лет опыта работы сотрудника, а во втором — его соответствующая зарплата. Эти данные позволяют исследовать зависимость между опытом и уровнем дохода, что удобно для построения моделей линейной регрессии и прогнозирования заработной платы на основе стажа работы."
  },
  {
   "cell_type": "code",
   "metadata": {
    "id": "ckQ9PedHD_sG",
    "executionInfo": {
     "status": "ok",
     "timestamp": 1741699083349,
     "user_tz": -180,
     "elapsed": 357,
     "user": {
      "displayName": "Павел Кудрявцев",
      "userId": "17653119215636565892"
     }
    },
    "colab": {
     "base_uri": "https://localhost:8080/",
     "height": 206
    },
    "outputId": "1300d6d2-f996-475e-c953-512589b78660",
    "ExecuteTime": {
     "end_time": "2025-05-21T21:47:56.244931Z",
     "start_time": "2025-05-21T21:47:56.238584Z"
    }
   },
   "source": [
    "df = pd.read_csv('Salary_dataset.csv')\n",
    "df.head()"
   ],
   "outputs": [
    {
     "data": {
      "text/plain": [
       "   Unnamed: 0  YearsExperience      Salary\n",
       "0           0          1.20000 39344.00000\n",
       "1           1          1.40000 46206.00000\n",
       "2           2          1.60000 37732.00000\n",
       "3           3          2.10000 43526.00000\n",
       "4           4          2.30000 39892.00000"
      ],
      "text/html": [
       "<div>\n",
       "<style scoped>\n",
       "    .dataframe tbody tr th:only-of-type {\n",
       "        vertical-align: middle;\n",
       "    }\n",
       "\n",
       "    .dataframe tbody tr th {\n",
       "        vertical-align: top;\n",
       "    }\n",
       "\n",
       "    .dataframe thead th {\n",
       "        text-align: right;\n",
       "    }\n",
       "</style>\n",
       "<table border=\"1\" class=\"dataframe\">\n",
       "  <thead>\n",
       "    <tr style=\"text-align: right;\">\n",
       "      <th></th>\n",
       "      <th>Unnamed: 0</th>\n",
       "      <th>YearsExperience</th>\n",
       "      <th>Salary</th>\n",
       "    </tr>\n",
       "  </thead>\n",
       "  <tbody>\n",
       "    <tr>\n",
       "      <th>0</th>\n",
       "      <td>0</td>\n",
       "      <td>1.20000</td>\n",
       "      <td>39344.00000</td>\n",
       "    </tr>\n",
       "    <tr>\n",
       "      <th>1</th>\n",
       "      <td>1</td>\n",
       "      <td>1.40000</td>\n",
       "      <td>46206.00000</td>\n",
       "    </tr>\n",
       "    <tr>\n",
       "      <th>2</th>\n",
       "      <td>2</td>\n",
       "      <td>1.60000</td>\n",
       "      <td>37732.00000</td>\n",
       "    </tr>\n",
       "    <tr>\n",
       "      <th>3</th>\n",
       "      <td>3</td>\n",
       "      <td>2.10000</td>\n",
       "      <td>43526.00000</td>\n",
       "    </tr>\n",
       "    <tr>\n",
       "      <th>4</th>\n",
       "      <td>4</td>\n",
       "      <td>2.30000</td>\n",
       "      <td>39892.00000</td>\n",
       "    </tr>\n",
       "  </tbody>\n",
       "</table>\n",
       "</div>"
      ]
     },
     "execution_count": 135,
     "metadata": {},
     "output_type": "execute_result"
    }
   ],
   "execution_count": 135
  },
  {
   "metadata": {
    "ExecuteTime": {
     "end_time": "2025-05-21T21:47:57.559375Z",
     "start_time": "2025-05-21T21:47:57.553353Z"
    }
   },
   "cell_type": "code",
   "source": [
    "df = df[['YearsExperience','Salary']]\n",
    "df.head()"
   ],
   "outputs": [
    {
     "data": {
      "text/plain": [
       "   YearsExperience      Salary\n",
       "0          1.20000 39344.00000\n",
       "1          1.40000 46206.00000\n",
       "2          1.60000 37732.00000\n",
       "3          2.10000 43526.00000\n",
       "4          2.30000 39892.00000"
      ],
      "text/html": [
       "<div>\n",
       "<style scoped>\n",
       "    .dataframe tbody tr th:only-of-type {\n",
       "        vertical-align: middle;\n",
       "    }\n",
       "\n",
       "    .dataframe tbody tr th {\n",
       "        vertical-align: top;\n",
       "    }\n",
       "\n",
       "    .dataframe thead th {\n",
       "        text-align: right;\n",
       "    }\n",
       "</style>\n",
       "<table border=\"1\" class=\"dataframe\">\n",
       "  <thead>\n",
       "    <tr style=\"text-align: right;\">\n",
       "      <th></th>\n",
       "      <th>YearsExperience</th>\n",
       "      <th>Salary</th>\n",
       "    </tr>\n",
       "  </thead>\n",
       "  <tbody>\n",
       "    <tr>\n",
       "      <th>0</th>\n",
       "      <td>1.20000</td>\n",
       "      <td>39344.00000</td>\n",
       "    </tr>\n",
       "    <tr>\n",
       "      <th>1</th>\n",
       "      <td>1.40000</td>\n",
       "      <td>46206.00000</td>\n",
       "    </tr>\n",
       "    <tr>\n",
       "      <th>2</th>\n",
       "      <td>1.60000</td>\n",
       "      <td>37732.00000</td>\n",
       "    </tr>\n",
       "    <tr>\n",
       "      <th>3</th>\n",
       "      <td>2.10000</td>\n",
       "      <td>43526.00000</td>\n",
       "    </tr>\n",
       "    <tr>\n",
       "      <th>4</th>\n",
       "      <td>2.30000</td>\n",
       "      <td>39892.00000</td>\n",
       "    </tr>\n",
       "  </tbody>\n",
       "</table>\n",
       "</div>"
      ]
     },
     "execution_count": 136,
     "metadata": {},
     "output_type": "execute_result"
    }
   ],
   "execution_count": 136
  },
  {
   "cell_type": "markdown",
   "source": [
    "# Построение линейной регрессии методом наименьших квадратов через NumPy"
   ],
   "metadata": {
    "id": "TzA8hd2qckML"
   }
  },
  {
   "metadata": {},
   "cell_type": "markdown",
   "source": "Метод наименьших квадратов — классический способ обучения линейной регрессии. Его суть в минимизации суммы квадратов разностей между предсказанными значениями модели и реальными значениями целевой переменной. Такой подход позволяет получить оптимальные коэффициенты для линейной модели при условии, что ошибки распределены нормально."
  },
  {
   "cell_type": "code",
   "source": [
    "x = df['YearsExperience'].values.reshape(-1,1)\n",
    "y = df['Salary'].values.reshape(-1,1)"
   ],
   "metadata": {
    "id": "fR4RIQGUFUDi",
    "executionInfo": {
     "status": "ok",
     "timestamp": 1741699083354,
     "user_tz": -180,
     "elapsed": 7,
     "user": {
      "displayName": "Павел Кудрявцев",
      "userId": "17653119215636565892"
     }
    },
    "ExecuteTime": {
     "end_time": "2025-05-21T21:47:59.776606Z",
     "start_time": "2025-05-21T21:47:59.773608Z"
    }
   },
   "outputs": [],
   "execution_count": 137
  },
  {
   "cell_type": "markdown",
   "source": [
    "Вывод всех точек на график, полученных из зависимости переменных x и y"
   ],
   "metadata": {
    "id": "IUrgnND9MaIp"
   }
  },
  {
   "cell_type": "code",
   "source": [
    "plt.scatter(x,y)\n",
    "plt.xlabel('YearsExperience')\n",
    "plt.ylabel('Salary')"
   ],
   "metadata": {
    "id": "6Buf3tXSMnsP",
    "executionInfo": {
     "status": "ok",
     "timestamp": 1741699083658,
     "user_tz": -180,
     "elapsed": 303,
     "user": {
      "displayName": "Павел Кудрявцев",
      "userId": "17653119215636565892"
     }
    },
    "colab": {
     "base_uri": "https://localhost:8080/",
     "height": 466
    },
    "outputId": "3f0ba065-3ef1-4bd0-fe86-10a046927e78",
    "ExecuteTime": {
     "end_time": "2025-05-21T21:48:01.213990Z",
     "start_time": "2025-05-21T21:48:01.145359Z"
    }
   },
   "outputs": [
    {
     "data": {
      "text/plain": [
       "Text(0, 0.5, 'Salary')"
      ]
     },
     "execution_count": 138,
     "metadata": {},
     "output_type": "execute_result"
    },
    {
     "data": {
      "text/plain": [
       "<Figure size 640x480 with 1 Axes>"
      ],
      "image/png": "[encoded data removed]"
     },
     "metadata": {},
     "output_type": "display_data"
    }
   ],
   "execution_count": 138
  },
  {
   "cell_type": "markdown",
   "source": "### Создание матрицы характеристик и нахождение beta_0 и beta_1",
   "metadata": {
    "id": "T70tHUsZ47sG"
   }
  },
  {
   "cell_type": "code",
   "source": [
    "X = np.hstack([np.ones((len(x), 1)), x])\n",
    "#print('design matrix X = \\n', X)\n",
    "np_solution = np.linalg.lstsq(X, y, rcond=None)\n",
    "\n",
    "beta_0, beta_1 = np_solution[0][0], np_solution[0][1]\n",
    "y_pred = beta_1 * x + beta_0\n",
    "print(f'Коэффициенты beta_0, beta_1 равны {beta_0.item():.2f}, {beta_1.item():.2f} соответственно.')\n",
    "print(f'Уравнение принимает вид: y = {beta_0.item():.2f} + {beta_1.item():.2f} * x')\n",
    "y_pred"
   ],
   "metadata": {
    "id": "rnzdCI5wFx_U",
    "executionInfo": {
     "status": "ok",
     "timestamp": 1741699083708,
     "user_tz": -180,
     "elapsed": 48,
     "user": {
      "displayName": "Павел Кудрявцев",
      "userId": "17653119215636565892"
     }
    },
    "colab": {
     "base_uri": "https://localhost:8080/"
    },
    "outputId": "9ea8ce24-0c9b-49d2-eee4-38e5a514b38e",
    "ExecuteTime": {
     "end_time": "2025-05-21T21:48:07.019689Z",
     "start_time": "2025-05-21T21:48:07.014220Z"
    }
   },
   "outputs": [
    {
     "name": "stdout",
     "output_type": "stream",
     "text": [
      "Коэффициенты beta_0, beta_1 равны 24848.20, 9449.96 соответственно.\n",
      "Уравнение принимает вид: y = 24848.20 + 9449.96 * x\n"
     ]
    },
    {
     "data": {
      "text/plain": [
       "array([[ 36188.15875227],\n",
       "       [ 38078.15121656],\n",
       "       [ 39968.14368085],\n",
       "       [ 44693.12484158],\n",
       "       [ 46583.11730587],\n",
       "       [ 53198.09093089],\n",
       "       [ 54143.08716303],\n",
       "       [ 56033.07962732],\n",
       "       [ 56033.07962732],\n",
       "       [ 60758.06078805],\n",
       "       [ 62648.05325234],\n",
       "       [ 63593.04948449],\n",
       "       [ 63593.04948449],\n",
       "       [ 64538.04571663],\n",
       "       [ 68318.03064522],\n",
       "       [ 72098.0155738 ],\n",
       "       [ 73988.00803809],\n",
       "       [ 75878.00050238],\n",
       "       [ 81547.97789525],\n",
       "       [ 82492.9741274 ],\n",
       "       [ 90052.94398456],\n",
       "       [ 92887.932681  ],\n",
       "       [100447.90253816],\n",
       "       [103282.8912346 ],\n",
       "       [108007.87239533],\n",
       "       [110842.86109176],\n",
       "       [115567.84225249],\n",
       "       [116512.83848464],\n",
       "       [123127.81210966],\n",
       "       [125017.80457395]])"
      ]
     },
     "execution_count": 139,
     "metadata": {},
     "output_type": "execute_result"
    }
   ],
   "execution_count": 139
  },
  {
   "metadata": {
    "ExecuteTime": {
     "end_time": "2025-05-21T21:48:09.040215Z",
     "start_time": "2025-05-21T21:48:09.033630Z"
    }
   },
   "cell_type": "code",
   "source": [
    "sse = np_solution[1]\n",
    "# Остатки\n",
    "residuals = y - y_pred\n",
    "# a) MSE — Среднеквадратичная ошибка\n",
    "mse = np.mean(residuals**2)\n",
    "# b) RMSE — Корень из среднеквадратичной ошибки\n",
    "rmse = np.sqrt(mse)\n",
    "# c) MAE — Средняя абсолютная ошибка\n",
    "mae = np.mean(np.abs(residuals))\n",
    "# d) R² — Коэффициент детерминации\n",
    "ss_res = np.sum(residuals**2)\n",
    "ss_tot = np.sum((y - np.mean(y))**2)\n",
    "r2 = 1 - ss_res / ss_tot\n",
    "# Список метрик и значений\n",
    "metrics = ['beta_0', 'beta_1', 'SSE', 'MSE', 'RMSE', 'MAE', 'R²']\n",
    "values = [beta_0.item(), beta_1.item(), sse[0], mse, rmse, mae, r2]\n",
    "\n",
    "# Создаем датафрейм\n",
    "methods = pd.DataFrame(values, index=metrics, columns=['Least Squares Method'])\n",
    "\n",
    "pd.set_option('display.float_format', '{:.5f}'.format)\n",
    "methods"
   ],
   "outputs": [
    {
     "data": {
      "text/plain": [
       "        Least Squares Method\n",
       "beta_0           24848.20397\n",
       "beta_1            9449.96232\n",
       "SSE          938128551.66843\n",
       "MSE           31270951.72228\n",
       "RMSE              5592.04361\n",
       "MAE               4644.20129\n",
       "R²                   0.95696"
      ],
      "text/html": [
       "<div>\n",
       "<style scoped>\n",
       "    .dataframe tbody tr th:only-of-type {\n",
       "        vertical-align: middle;\n",
       "    }\n",
       "\n",
       "    .dataframe tbody tr th {\n",
       "        vertical-align: top;\n",
       "    }\n",
       "\n",
       "    .dataframe thead th {\n",
       "        text-align: right;\n",
       "    }\n",
       "</style>\n",
       "<table border=\"1\" class=\"dataframe\">\n",
       "  <thead>\n",
       "    <tr style=\"text-align: right;\">\n",
       "      <th></th>\n",
       "      <th>Least Squares Method</th>\n",
       "    </tr>\n",
       "  </thead>\n",
       "  <tbody>\n",
       "    <tr>\n",
       "      <th>beta_0</th>\n",
       "      <td>24848.20397</td>\n",
       "    </tr>\n",
       "    <tr>\n",
       "      <th>beta_1</th>\n",
       "      <td>9449.96232</td>\n",
       "    </tr>\n",
       "    <tr>\n",
       "      <th>SSE</th>\n",
       "      <td>938128551.66843</td>\n",
       "    </tr>\n",
       "    <tr>\n",
       "      <th>MSE</th>\n",
       "      <td>31270951.72228</td>\n",
       "    </tr>\n",
       "    <tr>\n",
       "      <th>RMSE</th>\n",
       "      <td>5592.04361</td>\n",
       "    </tr>\n",
       "    <tr>\n",
       "      <th>MAE</th>\n",
       "      <td>4644.20129</td>\n",
       "    </tr>\n",
       "    <tr>\n",
       "      <th>R²</th>\n",
       "      <td>0.95696</td>\n",
       "    </tr>\n",
       "  </tbody>\n",
       "</table>\n",
       "</div>"
      ]
     },
     "execution_count": 140,
     "metadata": {},
     "output_type": "execute_result"
    }
   ],
   "execution_count": 140
  },
  {
   "cell_type": "markdown",
   "source": [
    "### Выводим график линейной регресии с помощью matplotlib"
   ],
   "metadata": {
    "id": "B1ijm18A5M0j"
   }
  },
  {
   "cell_type": "code",
   "source": [
    "fig, ax = plt.subplots()\n",
    "\n",
    "ax.scatter(x, y, color = 'b', label= 'Original data')\n",
    "\n",
    "x_range = np.linspace(min(df['YearsExperience']), max(df['YearsExperience']), 100)\n",
    "y_pred = beta_1 * x_range + beta_0\n",
    "\n",
    "ax.plot(x_range, y_pred, color='red', label=f'Fitted line:\\n y = {beta_1.item():.2f} * x + {beta_0.item():.2f} ')\n",
    "\n",
    "ax.grid(True)\n",
    "ax.legend(loc='best')\n",
    "ax.set(xlabel = 'YearsExperience', ylabel = 'Salary', title = 'Linear Regresion')\n",
    "\n",
    "plt.show()"
   ],
   "metadata": {
    "id": "4r7BBAN5HaoZ",
    "executionInfo": {
     "status": "ok",
     "timestamp": 1741699084016,
     "user_tz": -180,
     "elapsed": 265,
     "user": {
      "displayName": "Павел Кудрявцев",
      "userId": "17653119215636565892"
     }
    },
    "colab": {
     "base_uri": "https://localhost:8080/",
     "height": 472
    },
    "outputId": "f5cb020a-ad26-4e5e-ae34-5586d0d152d3",
    "ExecuteTime": {
     "end_time": "2025-05-21T21:48:11.919127Z",
     "start_time": "2025-05-21T21:48:11.830684Z"
    }
   },
   "outputs": [
    {
     "data": {
      "text/plain": [
       "<Figure size 640x480 with 1 Axes>"
      ],
      "image/png": "[encoded data removed]"
     },
     "metadata": {},
     "output_type": "display_data"
    }
   ],
   "execution_count": 141
  },
  {
   "cell_type": "markdown",
   "source": [
    "## Решение задачи регрессии с применением numpy, псевдообратной матрицы  \n",
    "Псевдообратная матрица (обратная Мура-Пенроуза) — это обобщение обратной матрицы, которое применяется в случаях, когда матрица признаков не является квадратной или имеет вырожденную структуру. Она позволяет получить аналитическое решение задачи линейной регрессии через формулу:  \n",
    "$$\n",
    "w = (X^T X)^{-1} X^T y\n",
    "$$"
   ],
   "metadata": {
    "id": "kqiDogqx7UPO"
   }
  },
  {
   "metadata": {
    "ExecuteTime": {
     "end_time": "2025-05-21T21:48:14.630783Z",
     "start_time": "2025-05-21T21:48:14.624411Z"
    }
   },
   "cell_type": "code",
   "source": [
    "# Решаем через np.linalg.lstsq\n",
    "np_solution = np.linalg.pinv(X) @ y  # первые элементы — коэффициенты\n",
    "\n",
    "beta_0, beta_1 = np_solution[0][0], np_solution[1][0]\n",
    "y_pred = X @ np_solution\n",
    "residuals = y - y_pred\n",
    "sse = np.sum(residuals ** 2)\n",
    "\n",
    "print(f'beta_0 = {beta_0:.3f}')\n",
    "print(f'beta_1 = {beta_1:.3f}')\n",
    "\n",
    "print(f'Коэффициенты beta_0, beta_1 равны {beta_0.item():.2f}, {beta_1.item():.2f} соответственно.')\n",
    "print(f'Уравнение принимает вид: y = {beta_0.item():.2f} + {beta_1.item():.2f} * x')\n",
    "y_pred"
   ],
   "outputs": [
    {
     "name": "stdout",
     "output_type": "stream",
     "text": [
      "beta_0 = 24848.204\n",
      "beta_1 = 9449.962\n",
      "Коэффициенты beta_0, beta_1 равны 24848.20, 9449.96 соответственно.\n",
      "Уравнение принимает вид: y = 24848.20 + 9449.96 * x\n"
     ]
    },
    {
     "data": {
      "text/plain": [
       "array([[ 36188.15875227],\n",
       "       [ 38078.15121656],\n",
       "       [ 39968.14368085],\n",
       "       [ 44693.12484158],\n",
       "       [ 46583.11730587],\n",
       "       [ 53198.09093089],\n",
       "       [ 54143.08716303],\n",
       "       [ 56033.07962732],\n",
       "       [ 56033.07962732],\n",
       "       [ 60758.06078805],\n",
       "       [ 62648.05325234],\n",
       "       [ 63593.04948449],\n",
       "       [ 63593.04948449],\n",
       "       [ 64538.04571663],\n",
       "       [ 68318.03064522],\n",
       "       [ 72098.0155738 ],\n",
       "       [ 73988.00803809],\n",
       "       [ 75878.00050238],\n",
       "       [ 81547.97789525],\n",
       "       [ 82492.9741274 ],\n",
       "       [ 90052.94398456],\n",
       "       [ 92887.932681  ],\n",
       "       [100447.90253816],\n",
       "       [103282.8912346 ],\n",
       "       [108007.87239533],\n",
       "       [110842.86109176],\n",
       "       [115567.84225249],\n",
       "       [116512.83848464],\n",
       "       [123127.81210966],\n",
       "       [125017.80457395]])"
      ]
     },
     "execution_count": 142,
     "metadata": {},
     "output_type": "execute_result"
    }
   ],
   "execution_count": 142
  },
  {
   "metadata": {
    "ExecuteTime": {
     "end_time": "2025-05-21T21:48:16.996636Z",
     "start_time": "2025-05-21T21:48:16.991635Z"
    }
   },
   "cell_type": "code",
   "source": [
    "sse = np.sum(residuals ** 2)\n",
    "# Остатки\n",
    "residuals = y - y_pred\n",
    "# a) MSE — Среднеквадратичная ошибка\n",
    "mse = np.mean(residuals**2)\n",
    "# b) RMSE — Корень из среднеквадратичной ошибки\n",
    "rmse = np.sqrt(mse)\n",
    "# c) MAE — Средняя абсолютная ошибка\n",
    "mae = np.mean(np.abs(residuals))\n",
    "# d) R² — Коэффициент детерминации\n",
    "ss_res = np.sum(residuals**2)\n",
    "ss_tot = np.sum((y - np.mean(y))**2)\n",
    "r2 = 1 - ss_res / ss_tot\n",
    "# Список метрик и значений\n",
    "\n",
    "methods['Pseudo-inverse Method'] = [beta_0.item(), beta_1.item(), sse, mse, rmse, mae, r2]\n",
    "\n",
    "methods['Pseudo-inverse Method']"
   ],
   "outputs": [
    {
     "data": {
      "text/plain": [
       "beta_0       24848.20397\n",
       "beta_1        9449.96232\n",
       "SSE      938128551.66843\n",
       "MSE       31270951.72228\n",
       "RMSE          5592.04361\n",
       "MAE           4644.20129\n",
       "R²               0.95696\n",
       "Name: Pseudo-inverse Method, dtype: float64"
      ]
     },
     "execution_count": 143,
     "metadata": {},
     "output_type": "execute_result"
    }
   ],
   "execution_count": 143
  },
  {
   "metadata": {},
   "cell_type": "markdown",
   "source": "При решении задачи линейной регрессии методами наименьших квадратов и с использованием псевдообратной матрицы значения всех метрик качества модели остались практически неизменными. Это свидетельствует о стабильности и эквивалентности этих подходов в вычислении коэффициентов регрессии для данного набора данных."
  },
  {
   "metadata": {},
   "cell_type": "markdown",
   "source": [
    "### Вопрос: чем отличаются операции\n",
    "* np.matmul\n",
    "* .dot\n",
    "*  @"
   ]
  },
  {
   "metadata": {},
   "cell_type": "markdown",
   "source": [
    "np.matmul - функция из библиотеки NumPy, предназначенная специально для выполнения произведения двух многомерных массивов (матриц). Она поддерживает любые формы массивов, включая многомерные массивы, и работает по правилам матричного умножения. Оператор @ делает все то же самое, что и matmul, но он необходим для компактности кода\\\n",
    "Пример:\n",
    "\n"
   ]
  },
  {
   "metadata": {},
   "cell_type": "code",
   "outputs": [],
   "execution_count": null,
   "source": [
    "A = np.array([[1, 2, 3], [4, 5, 6]])\n",
    "B = np.array([[7, 8], [9, 10], [11, 12]])\n",
    "result_matmul = np.matmul(A, B)\n",
    "result_at = A @ B\n",
    "print(result_matmul)\n",
    "print(result_at)"
   ]
  },
  {
   "metadata": {},
   "cell_type": "markdown",
   "source": [
    "Метод .dot() также из библиотеки NumPy, но он используется для умножения двумерных массивов и работает немного иначе. Если массивы имеют одинаковую размерность, он выполнит поэлементное умножение и работает быстрее, чем matmul, когда речь идет о простых матрицах.\\\n",
    "Пример:\n"
   ]
  },
  {
   "metadata": {},
   "cell_type": "code",
   "outputs": [],
   "execution_count": null,
   "source": [
    "A = np.array([[1, 2, 3], [4, 5, 6]])\n",
    "B = np.array([[7, 8], [9, 10], [11, 12]])\n",
    "result_dot = A.dot(B)\n",
    "\n",
    "print(result_dot)"
   ]
  },
  {
   "metadata": {},
   "cell_type": "code",
   "outputs": [],
   "execution_count": null,
   "source": [
    "A = np.array([[1, 2, 3], [4, 5, 6], [4, 5, 6]])\n",
    "B = np.array([[1, 2, 3], [4, 5, 6], [4, 5, 6]])\n",
    "result_dot = A.dot(B)\n",
    "\n",
    "print(result_dot)"
   ]
  },
  {
   "metadata": {},
   "cell_type": "markdown",
   "source": "Функции np.matmul, оператор @ и метод .dot в Python используются для умножения массивов, но между ними есть небольшие отличия. np.matmul и оператор @ всегда выполняют строго матричное умножение, воспринимая входные данные как двумерные или многомерные матрицы. Метод .dot же более гибкий: в зависимости от формы входных массивов он может выполнять и матричное умножение, и скалярное произведение для одномерных векторов. Из-за этого при работе с массивами разной размерности .dot иногда ведёт себя иначе по сравнению с np.matmul и @. Поэтому при выборе метода умножения стоит учитывать форму данных и ожидаемый результат."
  },
  {
   "cell_type": "markdown",
   "source": [
    "## Решение задачи линейной регрессии с помощью SCLearn"
   ],
   "metadata": {
    "id": "m6TUMvTjxx-U"
   }
  },
  {
   "metadata": {},
   "cell_type": "markdown",
   "source": "Scikit-learn — популярная библиотека на Python для машинного обучения, которая содержит готовые и оптимизированные реализации линейной регрессии и других моделей. Она упрощает обучение, оценку и применение моделей, предоставляя удобный интерфейс для работы с данными."
  },
  {
   "cell_type": "markdown",
   "source": [
    "Создаем модель и обучаем ее с помощью метода .fit"
   ],
   "metadata": {
    "id": "1f8Bg5cl1izn"
   }
  },
  {
   "cell_type": "code",
   "source": [
    "x = df['YearsExperience'].values.reshape(-1,1)\n",
    "y = df['Salary'].values\n",
    "\n",
    "x_train, x_test, y_train, y_test = train_test_split(x, y, test_size=0.3)\n",
    "\n",
    "model = LinearRegression()\n",
    "model.fit(x_train, y_train)\n",
    "\n",
    "beta_0 = model.intercept_\n",
    "beta_1 = model.coef_[0]\n",
    "print(f'Коэффициенты beta_0, beta_1 равны {beta_0:.2f}, {beta_1:.2f} соответственно.')\n",
    "print(f'Уравнение принимает вид: y = {beta_0:.2f} + {beta_1:.2f} * x')"
   ],
   "metadata": {
    "id": "tEZoUKCSQSBk",
    "executionInfo": {
     "status": "ok",
     "timestamp": 1741699085392,
     "user_tz": -180,
     "elapsed": 3,
     "user": {
      "displayName": "Павел Кудрявцев",
      "userId": "17653119215636565892"
     }
    },
    "ExecuteTime": {
     "end_time": "2025-05-21T21:48:41.612821Z",
     "start_time": "2025-05-21T21:48:41.607354Z"
    }
   },
   "outputs": [
    {
     "name": "stdout",
     "output_type": "stream",
     "text": [
      "Коэффициенты beta_0, beta_1 равны 25329.28, 9545.40 соответственно.\n",
      "Уравнение принимает вид: y = 25329.28 + 9545.40 * x\n"
     ]
    }
   ],
   "execution_count": 145
  },
  {
   "metadata": {
    "ExecuteTime": {
     "end_time": "2025-05-21T21:48:45.234400Z",
     "start_time": "2025-05-21T21:48:45.228134Z"
    }
   },
   "cell_type": "code",
   "source": [
    "# Предсказания на тесте\n",
    "y_pred = model.predict(x_test)\n",
    "\n",
    "# Остатки\n",
    "residuals = y_test - y_pred\n",
    "\n",
    "# Сумма квадратов остатков (SSE)\n",
    "sse = np.sum(residuals**2)\n",
    "\n",
    "# Среднеквадратичная ошибка (MSE)\n",
    "mse = np.mean(residuals**2)\n",
    "\n",
    "# Корень из MSE (RMSE)\n",
    "rmse = np.sqrt(mse)\n",
    "\n",
    "# Средняя абсолютная ошибка (MAE)\n",
    "mae = np.mean(np.abs(residuals))\n",
    "\n",
    "# Коэффициент детерминации R²\n",
    "r2 = model.score(x_test, y_test)\n",
    "methods['SCLearn'] = [beta_0.item(), beta_1.item(), sse, mse, rmse, mae, r2]\n",
    "\n",
    "methods['SCLearn']"
   ],
   "outputs": [
    {
     "data": {
      "text/plain": [
       "beta_0       25329.28426\n",
       "beta_1        9545.39533\n",
       "SSE      360812498.70304\n",
       "MSE       40090277.63367\n",
       "RMSE          6331.68837\n",
       "MAE           5932.53255\n",
       "R²               0.94244\n",
       "Name: SCLearn, dtype: float64"
      ]
     },
     "execution_count": 146,
     "metadata": {},
     "output_type": "execute_result"
    }
   ],
   "execution_count": 146
  },
  {
   "metadata": {},
   "cell_type": "markdown",
   "source": "В данной работе мы разделили исходный датасет на тренировочную и тестовую выборки. Такой подход необходим для оценки качества модели на новых данных и предотвращения переобучения. Однако уменьшение объема тренировочных данных привело к снижению точности предсказаний модели, обученной с помощью библиотеки scikit-learn. Это объясняется тем, что меньший объем данных ограничивает способность модели выявлять закономерности, что отражается на ухудшении качества прогнозов."
  },
  {
   "cell_type": "code",
   "source": [
    "plt.scatter(x_test, y_test, color='red', label='Тестовые данные')\n",
    "plt.scatter(x_train, y_train, color='blue', label='Данные для обучения')\n",
    "plt.plot(x_test, y_pred, color='green', label='Линейная регрессия')\n",
    "plt.xlabel('YearsExperience')\n",
    "plt.ylabel('Salary')\n",
    "plt.title('Линейная регрессия')\n",
    "plt.legend()\n",
    "plt.show()"
   ],
   "metadata": {
    "id": "SF54T7cI2ySa",
    "executionInfo": {
     "status": "ok",
     "timestamp": 1741699085726,
     "user_tz": -180,
     "elapsed": 332,
     "user": {
      "displayName": "Павел Кудрявцев",
      "userId": "17653119215636565892"
     }
    },
    "colab": {
     "base_uri": "https://localhost:8080/",
     "height": 472
    },
    "outputId": "afbc5fc8-e35a-4ecc-f3c5-de8b8b519c45",
    "ExecuteTime": {
     "end_time": "2025-05-21T21:48:52.071255Z",
     "start_time": "2025-05-21T21:48:51.974273Z"
    }
   },
   "outputs": [
    {
     "data": {
      "text/plain": [
       "<Figure size 640x480 with 1 Axes>"
      ],
      "image/png": "[encoded data removed]"
     },
     "metadata": {},
     "output_type": "display_data"
    }
   ],
   "execution_count": 147
  },
  {
   "metadata": {},
   "cell_type": "markdown",
   "source": ""
  },
  {
   "metadata": {},
   "cell_type": "markdown",
   "source": "## Квадратичная регрессия"
  },
  {
   "metadata": {},
   "cell_type": "markdown",
   "source": "Квадратичная регрессия — расширение линейной регрессии, в которой помимо исходных признаков добавляются их квадраты и произведения, что позволяет модели учитывать нелинейные зависимости между признаками и целевой переменной. Такая модель способна лучше описывать сложные взаимосвязи, но при этом требует аккуратной настройки во избежание переобучения."
  },
  {
   "cell_type": "markdown",
   "source": [
    "### Уравнение квадратичной регрессии\n",
    "### $$ y = \\beta_2\\cdot x^2 + \\beta_1\\cdot x + \\beta_0 $$"
   ],
   "metadata": {
    "id": "8ELBAJnaLH-n"
   }
  },
  {
   "cell_type": "markdown",
   "source": "",
   "metadata": {
    "id": "xobOwWSmGdh9"
   }
  },
  {
   "cell_type": "code",
   "source": [
    "x = df['YearsExperience'].values.reshape(-1,1)\n",
    "y = df['Salary']\n",
    "\n",
    "X = np.hstack([np.ones((len(x), 1)), x.reshape(-1, 1), np.square(x).reshape(-1, 1)])\n",
    "#print('Design matrix X = \\n', X)\n",
    "\n",
    "solution = np.linalg.lstsq(X, y, rcond=None)\n",
    "\n",
    "beta_0, beta_1, beta_2 = solution[0][0].item(), solution[0][1].item(), solution[0][2].item()\n",
    "print(f'Коэффициенты beta_0, beta_1 равны {beta_0:.2f}, {beta_1:.2f} соответственно.')\n",
    "print(f'Уравнение принимает вид: y = + {beta_2:.2f} * x^2 + {beta_1:.2f} * x {beta_0:.2f}')"
   ],
   "metadata": {
    "id": "wcKcQ8vuHaJg",
    "executionInfo": {
     "status": "ok",
     "timestamp": 1741699085731,
     "user_tz": -180,
     "elapsed": 3,
     "user": {
      "displayName": "Павел Кудрявцев",
      "userId": "17653119215636565892"
     }
    },
    "ExecuteTime": {
     "end_time": "2025-05-21T21:48:59.829751Z",
     "start_time": "2025-05-21T21:48:59.824740Z"
    }
   },
   "outputs": [
    {
     "name": "stdout",
     "output_type": "stream",
     "text": [
      "Коэффициенты beta_0, beta_1 равны 25290.17, 9256.01 соответственно.\n",
      "Уравнение принимает вид: y = + 16.39 * x^2 + 9256.01 * x 25290.17\n"
     ]
    }
   ],
   "execution_count": 148
  },
  {
   "metadata": {
    "ExecuteTime": {
     "end_time": "2025-05-21T21:49:02.262522Z",
     "start_time": "2025-05-21T21:49:02.258510Z"
    }
   },
   "cell_type": "code",
   "source": [
    "methods.loc[len(methods)] = np.nan\n",
    "methods.index.values[-1] = 'beta_2'"
   ],
   "outputs": [],
   "execution_count": 149
  },
  {
   "metadata": {
    "ExecuteTime": {
     "end_time": "2025-05-21T21:49:04.083855Z",
     "start_time": "2025-05-21T21:49:04.077361Z"
    }
   },
   "cell_type": "code",
   "source": [
    "x = df['YearsExperience'].values\n",
    "sse = np_solution[1][0]\n",
    "y_pred = beta_0 + beta_1 * x + beta_2 * np.square(x)\n",
    "# Остатки\n",
    "residuals = y - y_pred\n",
    "# a) MSE — Среднеквадратичная ошибка\n",
    "mse = np.mean(residuals**2)\n",
    "# b) RMSE — Корень из среднеквадратичной ошибки\n",
    "rmse = np.sqrt(mse)\n",
    "# c) MAE — Средняя абсолютная ошибка\n",
    "mae = np.mean(np.abs(residuals))\n",
    "# d) R² — Коэффициент детерминации\n",
    "ss_res = np.sum(residuals**2)\n",
    "ss_tot = np.sum((y - np.mean(y))**2)\n",
    "r2 = 1 - ss_res / ss_tot\n",
    "\n",
    "\n",
    "methods['Least Squares (Quadratic)'] = [beta_0, beta_1, sse, mse, rmse, mae, r2, beta_2]\n",
    "\n",
    "\n",
    "methods['Least Squares (Quadratic)']"
   ],
   "outputs": [
    {
     "data": {
      "text/plain": [
       "beta_0      25290.16821\n",
       "beta_1       9256.00537\n",
       "SSE          9449.96232\n",
       "MSE      31257508.45095\n",
       "RMSE         5590.84148\n",
       "MAE          4653.06904\n",
       "R²              0.95698\n",
       "beta_2         16.39257\n",
       "Name: Least Squares (Quadratic), dtype: float64"
      ]
     },
     "execution_count": 150,
     "metadata": {},
     "output_type": "execute_result"
    }
   ],
   "execution_count": 150
  },
  {
   "cell_type": "markdown",
   "source": [
    "#### Попробуем построить график квадратичной регрессии"
   ],
   "metadata": {
    "id": "MbkzNGIIJ2gY"
   }
  },
  {
   "cell_type": "code",
   "source": [
    "fig, ax = plt.subplots(figsize=(6, 5))\n",
    "\n",
    "ax.scatter(x, y, color='b', label='Original data')\n",
    "\n",
    "x_range = np.linspace(0, 10, 200)\n",
    "\n",
    "y_pred = beta_2 * x_range**2 + beta_1 * x_range + beta_0\n",
    "\n",
    "ax.plot(x_range, y_pred, color='r', label=f'Квадратичная аппроксимация:\\n y = {beta_2:.2f}x² + {beta_1:.2f}x + {beta_0:.2f}')\n",
    "\n",
    "ax.grid(True)\n",
    "ax.legend(loc='best')\n",
    "ax.set_xlabel('YearsExperience')\n",
    "ax.set_ylabel('Salary')\n",
    "ax.set_title('Квадратичная регрессия')\n",
    "\n",
    "plt.show()"
   ],
   "metadata": {
    "id": "vuu276CiHsC5",
    "executionInfo": {
     "status": "ok",
     "timestamp": 1741699086007,
     "user_tz": -180,
     "elapsed": 244,
     "user": {
      "displayName": "Павел Кудрявцев",
      "userId": "17653119215636565892"
     }
    },
    "colab": {
     "base_uri": "https://localhost:8080/",
     "height": 487
    },
    "outputId": "a9b41bbd-23a5-4e12-d979-3b849f34e768",
    "ExecuteTime": {
     "end_time": "2025-05-21T21:50:01.280242Z",
     "start_time": "2025-05-21T21:50:01.185027Z"
    }
   },
   "outputs": [
    {
     "data": {
      "text/plain": [
       "<Figure size 600x500 with 1 Axes>"
      ],
      "image/png": "[encoded data removed]"
     },
     "metadata": {},
     "output_type": "display_data"
    }
   ],
   "execution_count": 151
  },
  {
   "cell_type": "markdown",
   "source": "Квадратичная регрессия показала лишь незначительное улучшение точности модели, которое находится на уровне погрешности, что говорит о том, что добавление квадратичного члена дало небольшое преимущество в описании данных.",
   "metadata": {
    "id": "c4NdpXXIJ-FO"
   }
  },
  {
   "metadata": {},
   "cell_type": "markdown",
   "source": ""
  },
  {
   "metadata": {
    "ExecuteTime": {
     "end_time": "2025-05-21T21:50:03.768196Z",
     "start_time": "2025-05-21T21:50:03.761601Z"
    }
   },
   "cell_type": "code",
   "source": "methods",
   "outputs": [
    {
     "data": {
      "text/plain": [
       "        Least Squares Method  Pseudo-inverse Method         SCLearn  \\\n",
       "beta_0           24848.20397            24848.20397     25329.28426   \n",
       "beta_1            9449.96232             9449.96232      9545.39533   \n",
       "SSE          938128551.66843        938128551.66843 360812498.70304   \n",
       "MSE           31270951.72228         31270951.72228  40090277.63367   \n",
       "RMSE              5592.04361             5592.04361      6331.68837   \n",
       "MAE               4644.20129             4644.20129      5932.53255   \n",
       "R²                   0.95696                0.95696         0.94244   \n",
       "beta_2                   NaN                    NaN             NaN   \n",
       "\n",
       "        Least Squares (Quadratic)  \n",
       "beta_0                25290.16821  \n",
       "beta_1                 9256.00537  \n",
       "SSE                    9449.96232  \n",
       "MSE                31257508.45095  \n",
       "RMSE                   5590.84148  \n",
       "MAE                    4653.06904  \n",
       "R²                        0.95698  \n",
       "beta_2                   16.39257  "
      ],
      "text/html": [
       "<div>\n",
       "<style scoped>\n",
       "    .dataframe tbody tr th:only-of-type {\n",
       "        vertical-align: middle;\n",
       "    }\n",
       "\n",
       "    .dataframe tbody tr th {\n",
       "        vertical-align: top;\n",
       "    }\n",
       "\n",
       "    .dataframe thead th {\n",
       "        text-align: right;\n",
       "    }\n",
       "</style>\n",
       "<table border=\"1\" class=\"dataframe\">\n",
       "  <thead>\n",
       "    <tr style=\"text-align: right;\">\n",
       "      <th></th>\n",
       "      <th>Least Squares Method</th>\n",
       "      <th>Pseudo-inverse Method</th>\n",
       "      <th>SCLearn</th>\n",
       "      <th>Least Squares (Quadratic)</th>\n",
       "    </tr>\n",
       "  </thead>\n",
       "  <tbody>\n",
       "    <tr>\n",
       "      <th>beta_0</th>\n",
       "      <td>24848.20397</td>\n",
       "      <td>24848.20397</td>\n",
       "      <td>25329.28426</td>\n",
       "      <td>25290.16821</td>\n",
       "    </tr>\n",
       "    <tr>\n",
       "      <th>beta_1</th>\n",
       "      <td>9449.96232</td>\n",
       "      <td>9449.96232</td>\n",
       "      <td>9545.39533</td>\n",
       "      <td>9256.00537</td>\n",
       "    </tr>\n",
       "    <tr>\n",
       "      <th>SSE</th>\n",
       "      <td>938128551.66843</td>\n",
       "      <td>938128551.66843</td>\n",
       "      <td>360812498.70304</td>\n",
       "      <td>9449.96232</td>\n",
       "    </tr>\n",
       "    <tr>\n",
       "      <th>MSE</th>\n",
       "      <td>31270951.72228</td>\n",
       "      <td>31270951.72228</td>\n",
       "      <td>40090277.63367</td>\n",
       "      <td>31257508.45095</td>\n",
       "    </tr>\n",
       "    <tr>\n",
       "      <th>RMSE</th>\n",
       "      <td>5592.04361</td>\n",
       "      <td>5592.04361</td>\n",
       "      <td>6331.68837</td>\n",
       "      <td>5590.84148</td>\n",
       "    </tr>\n",
       "    <tr>\n",
       "      <th>MAE</th>\n",
       "      <td>4644.20129</td>\n",
       "      <td>4644.20129</td>\n",
       "      <td>5932.53255</td>\n",
       "      <td>4653.06904</td>\n",
       "    </tr>\n",
       "    <tr>\n",
       "      <th>R²</th>\n",
       "      <td>0.95696</td>\n",
       "      <td>0.95696</td>\n",
       "      <td>0.94244</td>\n",
       "      <td>0.95698</td>\n",
       "    </tr>\n",
       "    <tr>\n",
       "      <th>beta_2</th>\n",
       "      <td>NaN</td>\n",
       "      <td>NaN</td>\n",
       "      <td>NaN</td>\n",
       "      <td>16.39257</td>\n",
       "    </tr>\n",
       "  </tbody>\n",
       "</table>\n",
       "</div>"
      ]
     },
     "execution_count": 152,
     "metadata": {},
     "output_type": "execute_result"
    }
   ],
   "execution_count": 152
  },
  {
   "metadata": {},
   "cell_type": "markdown",
   "source": [
    "В данной лабораторной работе при решении задачи линейной регрессии методами наименьших квадратов и с использованием псевдообратной матрицы значения всех метрик качества модели\n",
    "остались неизменными. Это свидетельствует о стабильности и эквивалентности этих подходов в вычислении коэффициентов регрессии для данного набора данных.  \n",
    "Мы разделили исходный датасет на тренировочную и тестовую выборки. Такой подход необходим для оценки качества модели на новых данных и предотвращения переобучения. Однако\n",
    "уменьшение объема тренировочных данных привело к снижению точности предсказаний модели, обученной с помощью библиотеки scikit-learn. Это объясняется тем, что меньший объем данных\n",
    "ограничивает способность модели выявлять закономерности, что отражается на ухудшении качества прогнозов.  \n",
    "Квадратичная регрессия показала лишь незначительное улучшение точности модели, которое находится на уровне погрешности, что говорит о том, что добавление квадратичного члена дало небольшое преимущество в описании данных."
   ]
  },
  {
   "cell_type": "markdown",
   "source": "#### Из проделланной работы мы узнали, что такое линейная и квадратичная регрессии. Получили опыт работы с датасетом с помощью библиотеки pandas, опыт написания кода решения уравнения линейной и квадратичной регрессии. Вывели графики регрессий с помощью matplotlib, и создали, и обучили модель линейной регрессии благодаря SCLearn. Гипотеза была доказана, Зарплата работника прямо пропорционально зависит от его стажа работы.",
   "metadata": {
    "id": "iX0uP4h4QhrQ"
   }
  }
 ]
}
